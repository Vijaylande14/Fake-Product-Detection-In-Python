{
 "cells": [
  {
   "cell_type": "markdown",
   "id": "9a013f6b",
   "metadata": {},
   "source": [
    "## MODEL IMPLEMENTATION AND EVALUATION"
   ]
  },
  {
   "cell_type": "markdown",
   "id": "7e63098c",
   "metadata": {},
   "source": [
    "\n",
    "Models used: Multinominal Naive Bayes , Support Vector Machine,Random Forest Classifier, Logistic Regression\n",
    "\n",
    "Evaluation methods used: accuracy, precision, recall, f1_score and confusion matrix"
   ]
  },
  {
   "cell_type": "code",
   "execution_count": 4,
   "id": "fc7e692d",
   "metadata": {},
   "outputs": [
    {
     "name": "stdout",
     "output_type": "stream",
     "text": [
      "1.3.0\n"
     ]
    }
   ],
   "source": [
    "#!pip install --upgrade scikit-learn\n",
    "import sklearn\n",
    "print(sklearn.__version__)\n"
   ]
  },
  {
   "cell_type": "code",
   "execution_count": 6,
   "id": "2207165f",
   "metadata": {},
   "outputs": [],
   "source": [
    "#LIBRARIES \n",
    "import pandas as pd\n",
    "import nltk\n",
    "from nltk.corpus import stopwords\n",
    "import sklearn\n",
    "from sklearn.model_selection import train_test_split\n",
    "from sklearn.feature_extraction.text import CountVectorizer, TfidfVectorizer\n",
    "from sklearn.naive_bayes import MultinomialNB\n",
    "from sklearn.svm import SVC \n",
    "from sklearn.linear_model import LogisticRegression\n",
    "from sklearn.ensemble import RandomForestClassifier\n",
    "from sklearn.model_selection import GridSearchCV\n",
    "from sklearn.metrics import accuracy_score, precision_score, recall_score, f1_score\n",
    "from sklearn.metrics import confusion_matrix, ConfusionMatrixDisplay#, plot_confusion_matrix\n",
    "import pickle\n",
    "import warnings\n",
    "warnings.simplefilter(\"ignore\")"
   ]
  },
  {
   "cell_type": "code",
   "execution_count": 7,
   "id": "2d1eeb21",
   "metadata": {},
   "outputs": [],
   "source": [
    "#lOADING DATASETS \n",
    "df = pd.read_csv(\"Data/cleaned_data.csv\",encoding=\"latin1\") #due to special charas should be encoded as latin 1\n",
    "\n",
    "toCheck = pd.read_csv(\"Data/updated_data.csv\",encoding=\"latin1\")\n",
    "#REMOVE MAX\n",
    "pd.set_option('display.max_columns', None)\n",
    "pd.set_option('display.max_rows', None)\n",
    "\n",
    "#DROP EXTRA COLUMNS\n",
    "df.drop(['Unnamed: 0'], axis=1, inplace=True)\n",
    "toCheck.drop(['Unnamed: 0'], axis=1, inplace=True)"
   ]
  },
  {
   "cell_type": "markdown",
   "id": "43042220",
   "metadata": {},
   "source": [
    "### DOUBLE-CHECKING...\n",
    "\n",
    "Double checking if there are any NULL values within the dataset."
   ]
  },
  {
   "cell_type": "code",
   "execution_count": 8,
   "id": "1e6c3e36",
   "metadata": {},
   "outputs": [
    {
     "data": {
      "text/html": [
       "<div>\n",
       "<style scoped>\n",
       "    .dataframe tbody tr th:only-of-type {\n",
       "        vertical-align: middle;\n",
       "    }\n",
       "\n",
       "    .dataframe tbody tr th {\n",
       "        vertical-align: top;\n",
       "    }\n",
       "\n",
       "    .dataframe thead th {\n",
       "        text-align: right;\n",
       "    }\n",
       "</style>\n",
       "<table border=\"1\" class=\"dataframe\">\n",
       "  <thead>\n",
       "    <tr style=\"text-align: right;\">\n",
       "      <th></th>\n",
       "      <th>review_text</th>\n",
       "      <th>verified_purchase</th>\n",
       "    </tr>\n",
       "  </thead>\n",
       "  <tbody>\n",
       "    <tr>\n",
       "      <th>191</th>\n",
       "      <td>NaN</td>\n",
       "      <td>True</td>\n",
       "    </tr>\n",
       "    <tr>\n",
       "      <th>523</th>\n",
       "      <td>NaN</td>\n",
       "      <td>True</td>\n",
       "    </tr>\n",
       "    <tr>\n",
       "      <th>1072</th>\n",
       "      <td>NaN</td>\n",
       "      <td>True</td>\n",
       "    </tr>\n",
       "    <tr>\n",
       "      <th>1111</th>\n",
       "      <td>NaN</td>\n",
       "      <td>True</td>\n",
       "    </tr>\n",
       "    <tr>\n",
       "      <th>1230</th>\n",
       "      <td>NaN</td>\n",
       "      <td>True</td>\n",
       "    </tr>\n",
       "    <tr>\n",
       "      <th>1316</th>\n",
       "      <td>NaN</td>\n",
       "      <td>True</td>\n",
       "    </tr>\n",
       "  </tbody>\n",
       "</table>\n",
       "</div>"
      ],
      "text/plain": [
       "     review_text  verified_purchase\n",
       "191          NaN               True\n",
       "523          NaN               True\n",
       "1072         NaN               True\n",
       "1111         NaN               True\n",
       "1230         NaN               True\n",
       "1316         NaN               True"
      ]
     },
     "execution_count": 8,
     "metadata": {},
     "output_type": "execute_result"
    }
   ],
   "source": [
    "#CHECKING WHICH ROW IS NULL FROM PRE-PROCESSING\n",
    "checkNULL = df.isnull()\n",
    "checkNULL = checkNULL.any(axis=1)\n",
    "df[checkNULL]"
   ]
  },
  {
   "cell_type": "code",
   "execution_count": 9,
   "id": "a22b3344",
   "metadata": {},
   "outputs": [],
   "source": [
    "toCheck = toCheck.drop_duplicates().reset_index(drop=True)"
   ]
  },
  {
   "cell_type": "code",
   "execution_count": 10,
   "id": "ee865e9e",
   "metadata": {},
   "outputs": [
    {
     "data": {
      "text/html": [
       "<div>\n",
       "<style scoped>\n",
       "    .dataframe tbody tr th:only-of-type {\n",
       "        vertical-align: middle;\n",
       "    }\n",
       "\n",
       "    .dataframe tbody tr th {\n",
       "        vertical-align: top;\n",
       "    }\n",
       "\n",
       "    .dataframe thead th {\n",
       "        text-align: right;\n",
       "    }\n",
       "</style>\n",
       "<table border=\"1\" class=\"dataframe\">\n",
       "  <thead>\n",
       "    <tr style=\"text-align: right;\">\n",
       "      <th></th>\n",
       "      <th>review_text</th>\n",
       "      <th>verified_purchase</th>\n",
       "    </tr>\n",
       "  </thead>\n",
       "  <tbody>\n",
       "    <tr>\n",
       "      <th>191</th>\n",
       "      <td>A+</td>\n",
       "      <td>True</td>\n",
       "    </tr>\n",
       "    <tr>\n",
       "      <th>523</th>\n",
       "      <td>5*</td>\n",
       "      <td>True</td>\n",
       "    </tr>\n",
       "    <tr>\n",
       "      <th>1072</th>\n",
       "      <td>very</td>\n",
       "      <td>True</td>\n",
       "    </tr>\n",
       "    <tr>\n",
       "      <th>1111</th>\n",
       "      <td>Does what it should</td>\n",
       "      <td>True</td>\n",
       "    </tr>\n",
       "    <tr>\n",
       "      <th>1230</th>\n",
       "      <td>A+</td>\n",
       "      <td>True</td>\n",
       "    </tr>\n",
       "    <tr>\n",
       "      <th>1316</th>\n",
       "      <td>A*****</td>\n",
       "      <td>True</td>\n",
       "    </tr>\n",
       "  </tbody>\n",
       "</table>\n",
       "</div>"
      ],
      "text/plain": [
       "              review_text  verified_purchase\n",
       "191                    A+               True\n",
       "523                    5*               True\n",
       "1072                 very               True\n",
       "1111  Does what it should               True\n",
       "1230                   A+               True\n",
       "1316               A*****               True"
      ]
     },
     "execution_count": 10,
     "metadata": {},
     "output_type": "execute_result"
    }
   ],
   "source": [
    "toCheck.iloc[[191,523,1072,1111,1230,1316],[3,4]]"
   ]
  },
  {
   "cell_type": "markdown",
   "id": "8bf817f6",
   "metadata": {},
   "source": [
    "Checking the old csv file, it can be seen as to why the five rows were totally cleaned out within its review_text. That was because within the text processing stage previously, only words which held meaning were kept, and if we refer to the second table we can see that most of them were either stopwords or had symbols and numbers. Since they don't hold meaning either way, these will be dropped subsequently."
   ]
  },
  {
   "cell_type": "code",
   "execution_count": 11,
   "id": "0078043c",
   "metadata": {},
   "outputs": [],
   "source": [
    "#DROP THE NULL ROWS\n",
    "df = df.dropna(how='any',axis=0) "
   ]
  },
  {
   "cell_type": "code",
   "execution_count": 12,
   "id": "f86a47f9",
   "metadata": {},
   "outputs": [
    {
     "data": {
      "text/plain": [
       "False    0.525701\n",
       "True     0.474299\n",
       "Name: verified_purchase, dtype: float64"
      ]
     },
     "execution_count": 12,
     "metadata": {},
     "output_type": "execute_result"
    }
   ],
   "source": [
    "#UPDATED VP VALUES \n",
    "df[\"verified_purchase\"].value_counts(normalize=True)"
   ]
  },
  {
   "cell_type": "markdown",
   "id": "9af70870",
   "metadata": {},
   "source": [
    "Our target data is balanced and now it is  okay to move forward with modelling"
   ]
  },
  {
   "cell_type": "markdown",
   "id": "432b8a30",
   "metadata": {},
   "source": [
    "## MODELING"
   ]
  },
  {
   "cell_type": "markdown",
   "id": "146b2cda",
   "metadata": {},
   "source": [
    "Within the dataset, there are currently only two columns. Out of the two, review_text is going to be assigned as the input variable, and verified_purchases as the target variable. The data is then going to be split accordingly."
   ]
  },
  {
   "cell_type": "code",
   "execution_count": 13,
   "id": "3b33032c",
   "metadata": {},
   "outputs": [],
   "source": [
    "#ASSIGN THE VARIABLES\n",
    "X = df['review_text'] #input var\n",
    "y = df['verified_purchase'] #target var"
   ]
  },
  {
   "cell_type": "code",
   "execution_count": 14,
   "id": "4963fcbf",
   "metadata": {},
   "outputs": [
    {
     "name": "stdout",
     "output_type": "stream",
     "text": [
      "Number of rows:\n",
      "Entire dataset: 1712\n",
      "Train dataset: 1027\n",
      "Test dataset: 685\n"
     ]
    }
   ],
   "source": [
    "#SPLIT DATA\n",
    "X_train, X_test, y_train, y_test = train_test_split(\n",
    "    df['review_text'], df['verified_purchase'],test_size=0.4, random_state=42) #40% gives best results, 42 is no of life...\n",
    "\n",
    "entiredf = format(df.shape[0])\n",
    "traindf = format(X_train.shape[0])\n",
    "testdf = format(X_test.shape[0])\n",
    "\n",
    "print('Number of rows:')\n",
    "print('Entire dataset:', entiredf)\n",
    "print('Train dataset:', traindf)\n",
    "print('Test dataset:',testdf)"
   ]
  },
  {
   "cell_type": "markdown",
   "id": "155aace0",
   "metadata": {},
   "source": [
    "The data is splited split into 60 - 40"
   ]
  },
  {
   "cell_type": "markdown",
   "id": "d06afa3d",
   "metadata": {},
   "source": [
    "### COUNT VECTORIZER AND MODELING\n",
    "- Word vectorization maps words or phrases from a lexicon to a matching vector of real numbers, which may then be used to determine word predictions and semantics, and this is done due to the fact that models only understand numerical data.\n",
    "\n",
    "- We are going to be utlizing two of the vectorization methods, the first one being count vectorizer. We just count the number of times a word appears in the document in CountVectorizer, which results in a bias in favor of the most common terms."
   ]
  },
  {
   "cell_type": "code",
   "execution_count": 15,
   "id": "be59f032",
   "metadata": {},
   "outputs": [
    {
     "name": "stdout",
     "output_type": "stream",
     "text": [
      "\n",
      "Vocabulary: \n",
      " {'current': 415, 'sell': 1498, 'price': 1310, 'compar': 343, 'supermarket': 1705, 'good': 761, 'smell': 1563, 'pleasant': 1270, 'need': 1134, 'add': 14, 'small': 1558, 'cloth': 321, 'fresh': 701, 'great': 777, 'moisturis': 1100, 'sensit': 1502, 'love': 1010, 'pour': 1293, 'smaller': 1559, 'bottl': 194, 'make': 1033, 'manag': 1037, 'beat': 137, 'decent': 434, 'fabric': 616, 'soften': 1580, 'nice': 1142, 'fragranc': 696, 'purchas': 1334, 'deliveri': 458, 'cream': 399, 'handwash': 802, 'cheaper': 282, 'hand': 799, 'better': 155, 'liquid': 989, 'oh': 1174, 'wing': 1916, 'dove': 516, 'kitchen': 941, 'bathroom': 131, 'shower': 1527, 'room': 1436, 'recommend': 1378, 'highli': 831, 'star': 1636, 'simpl': 1537, 'gel': 728, 'like': 978, 'glue': 754, 'hard': 806, 'rub': 1444, 'slip': 1555, 'bath': 130, 'goe': 757, 'smoothli': 1569, 'easili': 541, 'wast': 1884, 'leav': 965, 'feel': 645, 'silki': 1535, 'soft': 1579, 'scenti': 1477, 'review': 1419, 'collect': 328, 'promot': 1322, 'excel': 591, 'everi': 582, 'day': 428, 'facial': 619, 'wash': 1881, 'excess': 593, 'face': 618, 'strip': 1669, 'natur': 1127, 'oil': 1175, 'care': 257, 'routin': 1442, 'morn': 1108, 'night': 1144, 'clean': 310, 'brilliant': 214, 'offer': 1172, 'gorgeou': 763, 'amaz': 52, 'valu': 1847, 'girli': 740, 'hair': 795, 'buy': 236, 'chang': 277, 'preserv': 1304, 'come': 333, 'bad': 109, 'sore': 1599, 'rash': 1354, 'eye': 610, 'burn': 231, 'lip': 988, 'tingl': 1774, 'phone': 1255, 'told': 1784, 'stuff': 1677, 'ask': 92, 'said': 1454, 'know': 944, 'want': 1877, 'reason': 1368, 'mayb': 1056, 'save': 1468, 'money': 1103, 'ingredi': 898, 'nearli': 1130, 'year': 1949, 'sinc': 1541, 'nivea': 1147, 'sold': 1583, 'compani': 341, 'german': 734, 'im': 873, 'realli': 1366, 'angri': 56, 'suppos': 1708, 'ok': 1177, 'rubbish': 1446, 'burnt': 232, 'pleas': 1269, 'usual': 1845, 'stock': 1651, 'fulli': 714, 'asda': 90, 'gave': 727, 'refund': 1386, 'gift': 736, 'card': 254, 'receipt': 1371, 'pocket': 1277, 'condition': 357, 'normal': 1151, 'oili': 1176, 'week': 1895, 'saw': 1470, 'differ': 482, 'felt': 648, 'cleans': 312, 'clearer': 315, 'notic': 1156, 'straightaway': 1659, 'red': 1381, 'blemish': 170, 'previou': 1308, 'kid': 937, 'doesnt': 507, 'irrit': 915, 'scent': 1476, 'littl': 994, 'bit': 163, 'long': 1000, 'way': 1891, 'similar': 1536, 'perfect': 1236, 'got': 765, 'coupl': 392, 'ago': 32, 'refresh': 1385, 'bodi': 182, 'smooth': 1567, 'cucumb': 410, 'relax': 1393, 'best': 154, 'came': 244, 'separ': 1504, 'packet': 1208, 'sealabl': 1491, 'affect': 25, 'rough': 1440, 'dri': 527, 'otherwis': 1193, 'fantast': 633, 'lot': 1008, 'effort': 551, 'reduc': 1382, 'plastic': 1268, 'concentr': 352, 'buyer': 237, 'say': 1471, 'larger': 950, 'probabl': 1316, 'explain': 603, 'label': 946, 'fuchsia': 712, 'perfum': 1239, 'version': 1863, 'overpow': 1203, 'big': 156, 'plu': 1274, 'difficulti': 484, 'intens': 908, 'past': 1226, 'note': 1153, 'outer': 1194, 'sleev': 1550, 'recycl': 1380, 'dispos': 500, 'charg': 280, 'kind': 938, 'overbear': 1199, 'anyon': 66, 'glow': 752, 'afford': 26, 'comfort': 334, 'creation': 402, 'round': 1441, 'market': 1045, 'close': 320, 'match': 1053, 'honeysuckl': 847, 'sandalwood': 1463, 'person': 1246, 'favourit': 640, 'howev': 856, 'descript': 467, 'ad': 13, 'recent': 1373, 'amazon': 55, 'pantri': 1215, 'order': 1189, 'lamin': 947, 'tile': 1770, 'floor': 671, 'subtl': 1685, 'streak': 1662, 'free': 699, 'shine': 1523, 'moistur': 1099, 'essenti': 579, 'tri': 1807, 'time': 1772, 'today': 1780, 'packag': 1207, 'easi': 539, 'open': 1182, 'squeez': 1627, 'releas': 1394, 'puff': 1330, 'froth': 708, 'pure': 1335, 'smear': 1562, 'white': 1907, 'absorb': 4, 'non': 1148, 'greasi': 776, 'appli': 73, 'think': 1758, 'expens': 600, 'cheap': 281, 'qualiti': 1340, 'dairi': 421, 'aroma': 84, 'dont': 510, 'drench': 525, 'lotion': 1009, 'pretti': 1306, 'worth': 1936, 'thank': 1751, 'item': 920, 'describ': 466, 'rapid': 1352, 'stop': 1653, 'static': 1641, 'chocol': 295, 'flavour': 670, 'creami': 400, 'soap': 1576, 'anyth': 67, 'els': 555, 'lather': 955, 'noth': 1154, 'fail': 623, 'protect': 1326, 'gentl': 731, 'basic': 126, 'harm': 807, 'nourish': 1157, 'tasti': 1733, 'beef': 144, 'tomato': 1785, 'grate': 773, 'cheddar': 285, 'chees': 287, 'mix': 1091, 'nd': 1128, 'let': 970, 'sit': 1544, 'minut': 1083, 'regret': 1388, 'set': 1509, 'took': 1790, 'expect': 599, 'size': 1546, 'persil': 1244, 'quit': 1348, 'pictur': 1258, 'mislead': 1087, 'apart': 71, 'cheer': 286, 'makeup': 1035, 'eas': 538, 'micellar': 1074, 'water': 1887, 'left': 966, 'pack': 1206, 'extra': 604, 'impresss': 882, 'content': 370, 'aw': 103, 'cut': 418, 'right': 1427, 'fingernail': 659, 'turn': 1817, 'upsid': 1843, 'approach': 78, 'empti': 560, 'ridicul': 1426, 'design': 468, 'bought': 195, 'lumber': 1017, 'home': 842, 'larg': 949, 'decant': 433, 'exist': 596, 'contain': 369, 'tell': 1740, 'straight': 1658, 'away': 105, 'despit': 471, 'compart': 345, 'machin': 1026, 'towel': 1795, 'unlik': 1834, 'manufactur': 1041, 'healthi': 818, 'definit': 449, 'forese': 685, 'futur': 721, 'gotten': 767, 'result': 1415, 'brillant': 213, 'brand': 202, 'absolut': 3, 'fan': 631, 'wow': 1938, 'factor': 621, 'base': 123, 'commerci': 337, 'help': 826, 'disappoint': 491, 'especi': 578, 'point': 1279, 'ice': 867, 'chunk': 303, 'difficult': 483, 'eat': 542, 'entir': 571, 'tub': 1813, 'nasti': 1126, 'chemic': 288, 'super': 1701, 'famili': 630, 'young': 1955, 'old': 1179, 'friendli': 706, 'mean': 1059, 'colour': 331, 'honestli': 845, 'problemat': 1318, 'prone': 1323, 'dermat': 464, 'tast': 1732, 'weed': 1894, 'vinegar': 1866, 'work': 1931, 'remov': 1403, 'havent': 812, 'hamper': 798, 'christma': 299, 'sure': 1709, 'magnum': 1030, 'incas': 886, 'amazebal': 53, 'togeth': 1781, 'delici': 455, 'superb': 1702, 'kit': 940, 'bio': 160, 'stubborn': 1674, 'stain': 1631, 'word': 1930, 'warn': 1880, 'handl': 801, 'tend': 1743, 'ensur': 568, 'thoroughli': 1762, 'rins': 1428, 'repair': 1405, 'guy': 791, 'fals': 629, 'economi': 545, 'build': 227, 'caus': 262, 'issu': 917, 'huggabl': 859, 'strong': 1671, 'alcohol': 36, 'pot': 1291, 'noodl': 1149, 'student': 1676, 'yuck': 1958, 'addit': 15, 'sauc': 1466, 'pasta': 1227, 'carboard': 251, 'situat': 1545, 'access': 6, 'kettl': 934, 'chose': 298, 'mugshot': 1116, 'mistak': 1089, 'scrumptiou': 1488, 'authent': 99, 'linger': 985, 'bonu': 189, 'percent': 1235, 'fact': 620, 'husband': 863, 'classic': 309, 'lynx': 1025, 'deodor': 461, 'regularli': 1390, 'number': 1160, 'skincar': 1547, 'avoid': 102, 'toner': 1787, 'experi': 601, 'anoth': 62, 'major': 1032, 'extrem': 607, 'flaki': 666, 'sting': 1649, 'dewi': 477, 'look': 1004, 'deffin': 442, 'opinion': 1183, 'reccomend': 1370, 'deal': 431, 'slow': 1556, 'cook': 377, 'beauti': 139, 'tip': 1776, 'mark': 1044, 'alway': 51, 'fresher': 702, 'regular': 1389, 'late': 952, 'overal': 1198, 'improv': 883, 'claim': 306, 'perform': 1238, 'miracl': 1084, 'lol': 998, 'reaction': 1360, 'happen': 803, 'winter': 1918, 'weather': 1893, 'central': 266, 'heat': 820, 'vaselin': 1852, 'dealt': 432, 'includ': 888, 'elbow': 553, 'knee': 942, 'place': 1263, 'glide': 747, 'dream': 524, 'summer': 1695, 'spent': 1614, 'lay': 959, 'beach': 134, 'eyemak': 613, 'men': 1067, 'boot': 191, 'tame': 1726, 'divin': 502, 'iron': 914, 'tear': 1737, 'penni': 1233, 'scale': 1472, 'deliv': 457, 'quickli': 1346, 'shampoo': 1516, 'leak': 964, 'tan': 1727, 'sunb': 1697, 'spray': 1624, 'thought': 1763, 'clear': 314, 'friend': 705, 'huge': 858, 'indoor': 893, 'didnt': 479, 'exxtra': 609, 'fast': 635, 'thankyou': 1752, 'half': 797, 'shop': 1526, 'line': 983, 'fake': 627, 'africa': 28, 'poorer': 1282, 'new': 1138, 'softer': 1581, 'particularli': 1221, 'wrap': 1939, 'storag': 1655, 'measur': 1061, 'touch': 1793, 'brighter': 210, 'cleaner': 311, 'afterward': 29, 'everyon': 585, 'impress': 881, 'neutral': 1137, 'defiantli': 444, 'fab': 615, 'rate': 1356, 'mani': 1039, 'micel': 1073, 'wipe': 1919, 'total': 1792, 'alreadi': 46, 'receiv': 1372, 'feed': 644, 'event': 580, 'absoulut': 5, 'stick': 1646, 'job': 927, 'live': 995, 'hype': 866, 'clearli': 316, 'lead': 962, 'leader': 963, 'inspir': 902, 'confid': 359, 'certainli': 270, 'harsh': 809, 'favorit': 638, 'imposs': 880, 'sourc': 1603, 'check': 284, 'target': 1731, 'piec': 1260, 'crack': 397, 'bare': 119, 'far': 634, 'concern': 354, 'waterproof': 1889, 'mascara': 1049, 'powder': 1295, 'return': 1417, 'paid': 1210, 'daili': 420, 'basi': 125, 'age': 30, 'multipl': 1117, 'bulk': 228, 'door': 511, 'funnel': 718, 'easier': 540, 'section': 1496, 'washer': 1882, 'moreov': 1107, 'thing': 1757, 'exactli': 590, 'someth': 1588, 'odor': 1169, 'blend': 171, 'energis': 565, 'complain': 347, 'lid': 972, 'bin': 159, 'spill': 1618, 'everywher': 588, 'box': 198, 'ml': 1093, 'hope': 848, 'misl': 1086, 'month': 1104, 'start': 1637, 'enjoy': 567, 'mr': 1114, 'hinch': 833, 'glad': 743, 'scratch': 1481, 'scour': 1480, 'pad': 1209, 'minki': 1082, 'spong': 1621, 'oven': 1197, 'hob': 838, 'tap': 1730, 'sink': 1543, 'screen': 1483, 'gleam': 746, 'compact': 340, 'rang': 1351, 'actual': 12, 'complet': 349, 'ha': 793, 'excema': 592, 'hit': 835, 'everyday': 584, 'massiv': 1052, 'cap': 246, 'lenor': 968, 'unstopp': 1839, 'convert': 375, 'mild': 1077, 'messi': 1071, 'step': 1645, 'dad': 419, 'awhil': 107, 'suitabl': 1694, 'obviou': 1162, 'choic': 296, 'believ': 147, 'continu': 371, 'term': 1745, 'benefit': 151, 'happi': 804, 'alround': 48, 'consist': 365, 'dilut': 485, 'guess': 790, 'blue': 178, 'pigment': 1261, 'act': 11, 'reli': 1395, 'hydrat': 865, 'mixtur': 1092, 'varieti': 1850, 'reach': 1358, 'matter': 1054, 'neg': 1135, 'pump': 1332, 'end': 562, 'foam': 678, 'met': 1072, 'standard': 1634, 'bar': 118, 'quarter': 1342, 'truli': 1812, 'load': 996, 'sometim': 1589, 'stapl': 1635, 'heal': 817, 'abras': 2, 'boy': 199, 'store': 1656, 'cupboard': 412, 'dead': 430, 'therapi': 1753, 'origin': 1192, 'mini': 1080, 'arriv': 85, 'real': 1363, 'delight': 456, 'quick': 1345, 'subscrib': 1682, 'light': 976, 'bubbl': 224, 'floral': 672, 'masculin': 1050, 'bigger': 157, 'volum': 1869, 'garag': 724, 'known': 945, 'sweet': 1719, 'textur': 1750, 'artifici': 89, 'justv': 930, 'hour': 853, 'pale': 1212, 'disastr': 492, 'success': 1686, 'creat': 401, 'spot': 1623, 'abl': 1, 'deepli': 440, 'exfoli': 595, 'wont': 1927, 'suffer': 1689, 'babi': 108, 'style': 1679, 'genuin': 733, 'neatli': 1131, 'everyth': 586, 'shall': 1514, 'tresmemm': 1806, 'fussi': 720, 'suit': 1693, 'therefor': 1754, 'prefer': 1301, 'burst': 233, 'transit': 1801, 'snack': 1572, 'went': 1899, 'weekend': 1896, 'decid': 435, 'wet': 1900, 'cashmer': 260, 'sweater': 1718, 'sainsburi': 1455, 'scrummi': 1487, 'delic': 454, 'requir': 1410, 'bring': 215, 'runni': 1449, 'glam': 744, 'somewher': 1591, 'follow': 681, 'inexpens': 895, 'plain': 1264, 'mother': 1112, 'law': 958, 'wat': 1885, 'discount': 494, 'tin': 1773, 'sooth': 1597, 'residu': 1411, 'cool': 380, 'readi': 1362, 'magic': 1028, 'latest': 954, 'variat': 1849, 'address': 16, 'environment': 573, 'transport': 1802, 'cost': 386, 'commend': 335, 'sens': 1500, 'detect': 472, 'breath': 206, 'form': 688, 'slightli': 1552, 'zesti': 1960, 'user': 1844, 'repres': 1408, 'lessen': 969, 'impact': 878, 'environ': 572, 'albeit': 35, 'smallest': 1560, 'ideal': 870, 'son': 1592, 'adult': 20, 'children': 293, 'belov': 148, 'pet': 1250, 'incred': 891, 'lolli': 999, 'bargain': 120, 'introduc': 910, 'partner': 1223, 'sadli': 1452, 'share': 1517, 'hot': 852, 'melt': 1065, 'drip': 530, 'finish': 660, 'favour': 639, 'properli': 1324, 'inferior': 896, 'tesco': 1747, 'microwav': 1076, 'sever': 1510, 'badli': 111, 'lumpi': 1018, 'mostli': 1109, 'simplic': 1539, 'gone': 759, 'effect': 549, 'trace': 1798, 'fanci': 632, 'remain': 1399, 'sticki': 1647, 'defin': 446, 'heavi': 821, 'frequent': 700, 'perhap': 1240, 'capsul': 248, 'household': 855, 'terribl': 1746, 'allerg': 37, 'constant': 366, 'hay': 813, 'wrong': 1944, 'sign': 1529, 'gluten': 755, 'casserol': 261, 'sat': 1464, 'toilet': 1782, 'barley': 122, 'coeliac': 325, 'peopl': 1234, 'unsuit': 1840, 'pick': 1257, 'signific': 1531, 'rel': 1392, 'sturdier': 1678, 'travel': 1803, 'hous': 854, 'tini': 1775, 'surfac': 1711, 'pic': 1256, 'wonder': 1925, 'deni': 459, 'fix': 664, 'instead': 905, 'whenev': 1902, 'react': 1359, 'true': 1811, 'luxuri': 1024, 'prime': 1312, 'conveni': 374, 'incorpor': 889, 'cleanser': 313, 'eventu': 581, 'margin': 1043, 'obvious': 1163, 'comment': 336, 'appreci': 76, 'break': 204, 'vegan': 1855, 'daughter': 427, 'persuad': 1248, 'hesit': 827, 'pay': 1230, 'forward': 693, 'soup': 1602, 'risotto': 1432, 'younger': 1956, 'menopaus': 1068, 'calm': 241, 'wrinkl': 1941, 'crepey': 403, 'layer': 960, 'conjunct': 361, 'hyaluron': 864, 'companion': 342, 'loss': 1006, 'firm': 661, 'oz': 1205, 'csmart': 408, 'screw': 1484, 'determin': 474, 'loos': 1005, 'knife': 943, 'wise': 1920, 'advoid': 24, 'smart': 1561, 'local': 997, 'okay': 1178, 'meant': 1060, 'equal': 574, 'artif': 88, 'upset': 1842, 'simpli': 1538, 'english': 566, 'mustard': 1122, 'colman': 329, 'sunday': 1698, 'roast': 1433, 'tube': 1814, 'invari': 911, 'serv': 1507, 'nozzl': 1159, 'block': 173, 'someon': 1587, 'scrub': 1486, 'extremli': 608, 'frangranc': 698, 'fairli': 626, 'spread': 1625, 'soak': 1575, 'smelt': 1566, 'wilkinson': 1913, 'area': 80, 'soon': 1593, 'becom': 140, 'scalp': 1474, 'satisfi': 1465, 'sorri': 1600, 'voucher': 1870, 'post': 1289, 'slimi': 1554, 'problem': 1317, 'unhappi': 1831, 'respons': 1413, 'treat': 1804, 'portug': 1287, 'miss': 1088, 'tea': 1736, 'straighten': 1660, 'curl': 414, 'damag': 422, 'seller': 1499, 'pod': 1278, 'bag': 113, 'filler': 654, 'rich': 1423, 'special': 1609, 'elsewher': 556, 'laundri': 957, 'hate': 810, 'arrog': 86, 'unilev': 1832, 'hold': 839, 'palm': 1213, 'fine': 657, 'paragon': 1217, 'champ': 275, 'tight': 1768, 'win': 1915, 'doubl': 514, 'struggl': 1673, 'tough': 1794, 'unbeliev': 1824, 'compliment': 350, 'august': 98, 'itchi': 919, 'stream': 1664, 'grandchildren': 771, 'unfortun': 1830, 'green': 779, 'lime': 980, 'individu': 892, 'dandruff': 425, 'anti': 63, 'prior': 1314, 'particular': 1220, 'busi': 234, 'mum': 1118, 'admit': 18, 'neglect': 1136, 'empathis': 559, 'trial': 1808, 'opportun': 1184, 'reconnect': 1379, 'cme': 322, 'smother': 1570, 'offens': 1171, 'alo': 41, 'applic': 74, 'bedtim': 142, 'verdict': 1859, 'thumb': 1765, 'ye': 1948, 'second': 1493, 'lightweight': 977, 'tendenc': 1744, 'pull': 1331, 'liber': 971, 'discreet': 496, 'overwhelm': 1204, 'protector': 1327, 'retain': 1416, 'ezyema': 614, 'switch': 1721, 'radiant': 1349, 'regim': 1387, 'thinner': 1759, 'heavili': 822, 'cancel': 245, 'subscript': 1683, 'wait': 1873, 'fyi': 722, 'attract': 97, 'floweri': 674, 'badeda': 110, 'holiday': 841, 'sun': 1696, 'till': 1771, 'stope': 1654, 'blow': 177, 'prevent': 1307, 'transform': 1800, 'nose': 1152, 'dehydr': 453, 'sort': 1601, 'rest': 1414, 'sleep': 1549, 'caramel': 249, 'marshmallow': 1047, 'liter': 992, 'calori': 243, 'bomb': 186, 'gross': 783, 'gonna': 760, 'throw': 1764, 'coca': 324, 'butter': 235, 'marmit': 1046, 'lover': 1012, 'glass': 745, 'jar': 924, 'oddli': 1168, 'given': 741, 'persev': 1243, 'shini': 1524, 'root': 1437, 'drier': 529, 'grown': 786, 'horribl': 850, 'agre': 33, 'tighter': 1769, 'import': 879, 'confus': 360, 'milk': 1079, 'maker': 1034, 'risk': 1431, 'underwear': 1829, 'ultra': 1823, 'twice': 1818, 'combin': 332, 'harmoni': 808, 'chicken': 291, 'mushroom': 1121, 'pie': 1259, 'salt': 1458, 'ruin': 1447, 'chuck': 302, 'tongu': 1789, 'season': 1492, 'accident': 7, 'swallow': 1715, 'sea': 1489, 'xd': 1945, 'older': 1180, 'wide': 1910, 'awak': 104, 'flakey': 665, 'smelli': 1564, 'pit': 1262, 'plenti': 1273, 'longer': 1001, 'comparison': 344, 'yo': 1953, 'born': 192, 'defient': 445, 'odourless': 1170, 'suppl': 1706, 'nightli': 1145, 'bed': 141, 'clog': 319, 'pore': 1285, 'replenish': 1407, 'daytim': 429, 'reappli': 1367, 'overnight': 1202, 'unscent': 1836, 'patch': 1228, 'stone': 1652, 'munchi': 1119, 'food': 683, 'depend': 463, 'wish': 1921, 'talk': 1724, 'visit': 1868, 'certifi': 271, 'british': 216, 'foundat': 694, 'freshli': 703, 'launder': 956, 'reliabl': 1396, 'cooler': 381, 'wahs': 1872, 'soapi': 1577, 'type': 1819, 'downsid': 517, 'hole': 840, 'tresemm': 1805, 'stand': 1633, 'yummi': 1959, 'sugari': 1691, 'eco': 543, 'parcel': 1218, 'brain': 200, 'op': 1181, 'wife': 1911, 'safe': 1453, 'recomend': 1377, 'aswel': 94, 'moist': 1097, 'surf': 1710, 'stay': 1642, 'articl': 87, 'acn': 10, 'scar': 1475, 'opposit': 1185, 'life': 974, 'visibl': 1867, 'fade': 622, 'dermatologist': 465, 'game': 723, 'changer': 278, 'main': 1031, 'test': 1748, 'singl': 1542, 'mayo': 1057, 'bod': 181, 'bat': 127, 'quench': 1343, 'fell': 647, 'cooki': 379, 'dough': 515, 'superdrug': 1703, 'prize': 1315, 'buzz': 238, 'limit': 982, 'edit': 548, 'stayer': 1643, 'scratchi': 1482, 'rip': 1429, 'mistreat': 1090, 'dock': 503, 'reus': 1418, 'revitalis': 1420, 'gentli': 732, 'impur': 884, 'servic': 1508, 'fault': 636, 'rocemmend': 1434, 'almond': 40, 'mouth': 1113, 'fave': 637, 'dark': 426, 'passion': 1225, 'narrow': 1125, 'accur': 8, 'slim': 1553, 'pourer': 1294, 'dribbl': 528, 'washload': 1883, 'flower': 673, 'hint': 834, 'fruit': 710, 'mango': 1038, 'brought': 220, 'cornet': 383, 'luvli': 1022, 'carri': 258, 'worri': 1933, 'man': 1036, 'choos': 297, 'sweat': 1717, 'mayonnais': 1058, 'substanc': 1684, 'squeezi': 1628, 'geniu': 730, 'idea': 869, 'tall': 1725, 'unstabl': 1838, 'ive': 923, 'fridg': 704, 'tumbl': 1815, 'brittl': 217, 'shatter': 1520, 'groundhog': 784, 'cri': 404, 'overhaul': 1200, 'curri': 416, 'besid': 153, 'sachet': 1451, 'edibl': 547, 'phenomen': 1253, 'function': 716, 'longest': 1002, 'rid': 1425, 'kept': 933, 'drawback': 521, 'suppli': 1707, 'wear': 1892, 'diabet': 478, 'carbohydr': 252, 'nutrit': 1161, 'inform': 897, 'whatsoev': 1901, 'wall': 1876, 'specif': 1610, 'portion': 1286, 'whitehead': 1908, 'bash': 124, 'inadvert': 885, 'deterg': 473, 'fairi': 625, 'joint': 928, 'biolog': 162, 'septic': 1505, 'tank': 1728, 'dispens': 499, 'insert': 900, 'suffici': 1690, 'condit': 356, 'competit': 346, 'hav': 811, 'btilliant': 222, 'wild': 1912, 'enthusiast': 569, 'err': 575, 'gener': 729, 'custom': 417, 'write': 1943, 'uncomfort': 1828, 'clash': 307, 'coat': 323, 'sickli': 1528, 'raspberri': 1355, 'cover': 394, 'core': 382, 'remind': 1402, 'cheapest': 283, 'imagin': 874, 'insipid': 901, 'rush': 1450, 'develop': 475, 'process': 1319, 'bitter': 165, 'rippl': 1430, 'consid': 363, 'lush': 1021, 'suggest': 1692, 'petrolatum': 1251, 'damp': 423, 'eczema': 546, 'rosacea': 1439, 'coz': 396, 'wors': 1934, 'apprehens': 77, 'broken': 219, 'fit': 663, 'purpos': 1338, 'sport': 1622, 'mad': 1027, 'teenag': 1738, 'promis': 1321, 'moisturisor': 1101, 'deoder': 460, 'discov': 495, 'shame': 1515, 'broke': 218, 'manli': 1040, 'foami': 679, 'wondr': 1926, 'variou': 1851, 'chamomil': 274, 'weight': 1898, 'thicker': 1756, 'space': 1604, 'nicest': 1143, 'mmmm': 1094, 'bo': 179, 'beater': 138, 'plainli': 1265, 'bright': 208, 'bold': 185, 'grudg': 787, 'dirti': 489, 'tablet': 1722, 'necess': 1132, 'weekli': 1897, 'groceri': 782, 'budget': 226, 'cake': 240, 'exot': 597, 'veget': 1856, 'ariel': 81, 'domin': 509, 'global': 749, 'consum': 367, 'giant': 735, 'expert': 602, 'dodgi': 505, 'imit': 875, 'sub': 1680, 'guarante': 789, 'high': 830, 'rubberi': 1445, 'gossam': 764, 'case': 259, 'brightli': 211, 'funki': 717, 'purpl': 1337, 'grey': 781, 'swirl': 1720, 'gu': 788, 'outsid': 1195, 'grade': 768, 'disappear': 490, 'mysteri': 1123, 'sphinx': 1616, 'giza': 742, 'bermuda': 152, 'triangl': 1809, 'voynich': 1871, 'manuscript': 1042, 'xlarg': 1946, 'discontinu': 493, 'option': 1187, 'limescal': 981, 'unclog': 1827, 'wake': 1874, 'plump': 1276, 'ill': 872, 'pun': 1333, 'intend': 907, 'altern': 49, 'forth': 691, 'healthier': 819, 'advic': 22, 'minimum': 1081, 'annoy': 60, 'asid': 91, 'run': 1448, 'plug': 1275, 'potenti': 1292, 'increas': 890, 'member': 1066, 'endors': 563, 'practic': 1298, 'nappi': 1124, 'pyramid': 1339, 'warm': 1879, 'present': 1303, 'st': 1630, 'rememb': 1401, 'repurchas': 1409, 'figur': 653, 'medicin': 1062, 'cabinet': 239, 'salti': 1459, 'yeast': 1950, 'honest': 844, 'toast': 1779, 'fluctuat': 675, 'particulr': 1222, 'watch': 1886, 'smellllllll': 1565, 'sauna': 1467, 'outstand': 1196, 'turkey': 1816, 'neck': 1133, 'shake': 1512, 'graviti': 775, 'vastli': 1853, 'sharp': 1519, 'begin': 145, 'assum': 93, 'grow': 785, 'ocado': 1164, 'sampl': 1460, 'state': 1639, 'formula': 690, 'correct': 385, 'later': 953, 'boost': 190, 'sooo': 1595, 'complaint': 348, 'concept': 353, 'recal': 1369, 'tetra': 1749, 'public': 1329, 'innov': 899, 'refil': 1384, 'cardboard': 255, 'dose': 513, 'counter': 390, 'read': 1361, 'print': 1313, 'wrapper': 1940, 'magnif': 1029, 'anim': 57, 'whilst': 1905, 'provid': 1328, 'headquart': 816, 'offic': 1173, 'produc': 1320, 'countri': 391, 'sale': 1457, 'carbon': 253, 'footprint': 684, 'torn': 1791, 'extrat': 606, 'wherea': 1903, 'secondli': 1494, 'spare': 1607, 'rib': 1422, 'persdper': 1242, 'reorder': 1404, 'somewhat': 1590, 'feminin': 649, 'perspir': 1247, 'danc': 424, 'bay': 133, 'waxi': 1890, 'shark': 1518, 'ben': 149, 'jerri': 926, 'fragrant': 697, 'bargin': 121, 'vanilla': 1848, 'iritatw': 913, 'tbh': 1735, 'loo': 1003, 'conceal': 351, 'moment': 1102, 'coverag': 395, 'brighten': 209, 'glowi': 753, 'perfectli': 1237, 'view': 1865, 'consciou': 362, 'paper': 1216, 'temperament': 1741, 'lazi': 961, 'girl': 738, 'solut': 1585, 'deep': 439, 'repeat': 1406, 'versatil': 1862, 'heel': 823, 'econom': 544, 'defo': 451, 'direct': 487, 'chronic': 300, 'chapstick': 279, 'jot': 929, 'bob': 180, 'uncl': 1826, 'awesom': 106, 'doeant': 506, 'soggi': 1582, 'mess': 1070, 'dish': 498, 'lux': 1023, 'plan': 1266, 'kcal': 931, 'control': 373, 'diet': 481, 'biodegrad': 161, 'forev': 686, 'blackhead': 166, 'zone': 1961, 'fed': 643, 'tone': 1786, 'anymor': 65, 'bland': 167, 'wateri': 1888, 'gold': 758, 'spring': 1626, 'cold': 327, 'cardigan': 256, 'thirti': 1760, 'degre': 452, 'tie': 1767, 'boil': 183, 'bikini': 158, 'dedic': 438, 'ylang': 1952, 'town': 1796, 'aaaaamaz': 0, 'tattoooo': 1734, 'previous': 1309, 'admir': 17, 'blast': 168, 'whiff': 1904, 'planet': 1267, 'pollut': 1280, 'funni': 719, 'cone': 358, 'crispi': 405, 'cornetto': 384, 'flare': 667, 'itch': 918, 'crazi': 398, 'escap': 577, 'lift': 975, 'drop': 531, 'instantli': 904, 'relief': 1397, 'effortlessli': 552, 'alot': 44, 'effici': 550, 'linen': 984, 'pre': 1300, 'extract': 605, 'honey': 846, 'suckl': 1687, 'yesterday': 1951, 'perman': 1241, 'cherri': 289, 'blossom': 175, 'pea': 1231, 'sandal': 1462, 'wood': 1928, 'cup': 411, 'lunch': 1019, 'king': 939, 'gram': 770, 'antiperspir': 64, 'unblock': 1825, 'gradual': 769, 'pleasantli': 1271, 'surpris': 1712, 'cours': 393, 'fcuk': 641, 'opt': 1186, 'starter': 1638, 'newborn': 1139, 'gym': 792, 'hunger': 860, 'challeng': 273, 'strength': 1666, 'endur': 564, 'helmann': 825, 'bone': 188, 'appeal': 72, 'advantag': 21, 'citru': 305, 'muscl': 1120, 'bump': 229, 'ador': 19, 'handi': 800, 'persist': 1245, 'whitout': 1909, 'sin': 1540, 'spend': 1613, 'woken': 1923, 'reiment': 1391, 'smudg': 1571, 'novelti': 1158, 'fish': 662, 'quantiti': 1341, 'deodour': 462, 'swear': 1716, 'arkward': 82, 'kick': 936, 'sent': 1503, 'toiletri': 1783, 'linnen': 987, 'film': 655, 'teeth': 1739, 'ceram': 267, 'realis': 1364, 'cent': 265, 'gooey': 762, 'marshmallowey': 1048, 'phish': 1254, 'class': 308, 'spain': 1606, 'breakout': 205, 'intoler': 909, 'superior': 1704, 'alon': 43, 'thiught': 1761, 'cojld': 326, 'garnier': 725, 'apar': 70, 'stripey': 1670, 'feet': 646, 'orang': 1188, 'stink': 1650, 'moral': 1106, 'stori': 1657, 'format': 689, 'shave': 1521, 'dress': 526, 'fewer': 650, 'worn': 1932, 'meet': 1064, 'amazingli': 54, 'flavor': 669, 'powderi': 1296, 'exempt': 594, 'medium': 1063, 'annoyiji': 61, 'occas': 1165, 'immedi': 876, 'serum': 1506, 'contribut': 372, 'deco': 437, 'women': 1924, 'eldest': 554, 'forgotten': 687, 'chew': 290, 'rope': 1438, 'school': 1478, 'lie': 973, 'nother': 1155, 'automat': 100, 'gloopi': 750, 'drugstor': 532, 'brainer': 201, 'partnership': 1224, 'encourag': 561, 'spici': 1617, 'fear': 642, 'spilt': 1619, 'alright': 47, 'gotta': 766, 'cetearyl': 272, 'cif': 304, 'power': 1297, 'mirror': 1085, 'nightmar': 1146, 'fun': 715, 'ordinari': 1190, 'thicken': 1755, 'gravi': 774, 'pop': 1283, 'press': 1305, 'spell': 1612, 'scali': 1473, 'quid': 1347, 'tempt': 1742, 'everytim': 587, 'spf': 1615, 'critic': 407, 'uva': 1846, 'convinc': 376, 'refer': 1383, 'batteri': 132, 'verifi': 1860, 'overli': 1201, 'allergi': 38, 'certain': 269, 'bondi': 187, 'sand': 1461, 'slight': 1551, 'fabul': 617, 'hike': 832, 'itsel': 921, 'frizz': 707, 'flat': 668, 'lank': 948, 'bounc': 196, 'stuck': 1675, 'unus': 1841, 'cooker': 378, 'invigor': 912, 'newer': 1140, 'rd': 1357, 'isnt': 916, 'cerav': 268, 'norm': 1150, 'begun': 146, 'calmer': 242, 'sciencey': 1479, 'id': 868, 'unless': 1833, 'anytim': 68, 'indulg': 894, 'bite': 164, 'dog': 508, 'micro': 1075, 'granul': 772, 'wari': 1878, 'stainless': 1632, 'steel': 1644, 'liquidi': 990, 'velvet': 1857, 'hopingthat': 849, 'fair': 624, 'btw': 223, 'instruct': 906, 'typic': 1820, 'dy': 537, 'tong': 1788, 'question': 1344, 'clip': 318, 'sensat': 1501, 'definatli': 447, 'surprisingli': 1713, 'shock': 1525, 'litr': 993, 'imo': 877, 'salad': 1456, 'bake': 114, 'bean': 135, 'frozen': 709, 'pear': 1232, 'youth': 1957, 'anitipersperi': 58, 'accustom': 9, 'richer': 1424, 'bundl': 230, 'low': 1013, 'carb': 250, 'duti': 536, 'sock': 1578, 'fraction': 695, 'loveliest': 1011, 'wrist': 1942, 'drum': 533, 'modest': 1096, 'inch': 887, 'god': 756, 'somebodi': 1586, 'brazil': 203, 'expat': 598, 'bearabl': 136, 'vfm': 1864, 'head': 814, 'winner': 1917, 'iv': 922, 'batgain': 129, 'averag': 101, 'oreal': 1191, 'resist': 1412, 'girlfriend': 739, 'mention': 1069, 'benefici': 150, 'list': 991, 'chanc': 276, 'transfer': 1799, 'snif': 1574, 'commit': 338, 'stiff': 1648, 'kg': 935, 'alobg': 42, 'matur': 1055, 'hiya': 837, 'stress': 1667, 'pricey': 1311, 'reliev': 1398, 'final': 656, 'tropic': 1810, 'lili': 979, 'mud': 1115, 'spag': 1605, 'bol': 184, 'attent': 96, 'lingeri': 986, 'cotton': 388, 'silk': 1534, 'fiber': 651, 'gigant': 737, 'possibl': 1288, 'lash': 951, 'eyebrow': 611, 'hide': 829, 'sunshin': 1700, 'clingi': 317, 'greazi': 778, 'advis': 23, 'rare': 1353, 'desir': 469, 'blotch': 176, 'brown': 221, 'attach': 95, 'ignor': 871, 'fortun': 692, 'fulfil': 713, 'criteria': 406, 'wilt': 1914, 'yard': 1947, 'radiu': 1350, 'alarm': 34, 'whisk': 1906, 'drainag': 520, 'devin': 476, 'signatur': 1530, 'haha': 794, 'saver': 1469, 'pamper': 1214, 'heheh': 824, 'hunk': 861, 'shelf': 1522, 'unscrew': 1837, 'glove': 751, 'odd': 1167, 'horrif': 851, 'headach': 815, 'desper': 470, 'afraid': 27, 'disturb': 501, 'properti': 1325, 'fluff': 676, 'dryness': 534, 'unpleas': 1835, 'seal': 1490, 'drain': 519, 'yogurt': 1954, 'alpro': 45, 'blop': 174, 'postag': 1290, 'doctor': 504, 'soooo': 1596, 'walk': 1875, 'pervas': 1249, 'sky': 1548, 'fruiti': 711, 'strike': 1668, 'balanc': 115, 'slurp': 1557, 'reckon': 1375, 'nearer': 1129, 'path': 1229, 'decidedli': 436, 'newsweek': 1141, 'fluffi': 677, 'smoother': 1568, 'hive': 836, 'aggrav': 31, 'wool': 1929, 'chsnge': 301, 'remark': 1400, 'specifi': 1611, 'conclus': 355, 'lure': 1020, 'entic': 570, 'squint': 1629, 'reviv': 1421, 'fallen': 628, 'deffinalti': 443, 'fond': 682, 'poor': 1281, 'consider': 364, 'dinner': 486, 'parti': 1219, 'everybodi': 583, 'jelli': 925, 'loyal': 1014, 'balm': 116, 'finger': 658, 'color': 330, 'petroleum': 1252, 'shadow': 1511, 'appropri': 79, 'tidi': 1766, 'eyelin': 612, 'error': 576, 'spars': 1608, 'bud': 225, 'homemad': 843, 'brill': 212, 'row': 1443, 'roll': 1435, 'shaken': 1513, 'disgust': 497, 'contact': 368, 'suddenli': 1688, 'alth': 50, 'insread': 903, 'toxic': 1797, 'dud': 535, 'split': 1620, 'cautiou': 263, 'lucki': 1016, 'monthli': 1105, 'beed': 143, 'scrib': 1485, 'hurt': 862, 'glitter': 748, 'ankl': 59, 'drawer': 522, 'bovril': 197, 'moan': 1095, 'arm': 83, 'significantli': 1532, 'strang': 1661, 'bleach': 169, 'occasion': 1166, 'recognis': 1376, 'cedarwood': 264, 'popular': 1284, 'bother': 193, 'dozen': 518, 'blindingli': 172, 'leg': 967, 'tanner': 1729, 'stronger': 1672, 'street': 1665, 'veg': 1854, 'cube': 409, 'batch': 128, 'recipebut': 1374, 'secret': 1495, 'mile': 1078, 'hr': 857, 'sedentari': 1497, 'worst': 1935, 'verri': 1861, 'hi': 828, 'uk': 1821, 'anywher': 69, 'massag': 1051, 'keen': 932, 'ban': 117, 'sneaki': 1573, 'woke': 1922, 'sunk': 1699, 'tacki': 1723, 'surviv': 1714, 'brexit': 207, 'defintley': 450, 'die': 480, 'em': 558, 'pregnant': 1302, 'moisteris': 1098, 'lost': 1007, 'count': 389, 'streaki': 1663, 'capful': 247, 'common': 339, 'loyalti': 1015, 'sooner': 1594, 'mostur': 1110, 'definetli': 448, 'mostureris': 1111, 'tissu': 1778, 'pain': 1211, 'pleasur': 1272, 'happili': 805, 'vera': 1858, 'directli': 488, 'allow': 39, 'subject': 1681, 'greenhous': 780, 'gase': 726, 'ultim': 1822, 'fight': 652, 'tire': 1777, 'drawn': 523, 'child': 292, 'dosag': 512, 'statement': 1640, 'worthwhil': 1937, 'sorbet': 1598, 'focus': 680, 'exact': 589, 'costco': 387, 'curiou': 413, 'baffl': 112, 'elviv': 557, 'realiz': 1365, 'silicon': 1533, 'hairdress': 796, 'appoint': 75, 'defenc': 441, 'purifi': 1336, 'pralin': 1299, 'choc': 294, 'solero': 1584}\n"
     ]
    }
   ],
   "source": [
    "count_vectorizer  = CountVectorizer(stop_words='english')\n",
    "count_vectorizer.fit(X_train)\n",
    "print('\\nVocabulary: \\n', count_vectorizer.vocabulary_)\n",
    "\n",
    "train_c = count_vectorizer.fit_transform(X_train)\n",
    "test_c = count_vectorizer.transform(X_test)"
   ]
  },
  {
   "cell_type": "markdown",
   "id": "114539d4",
   "metadata": {},
   "source": [
    "### Multinomial Naive Bayes model"
   ]
  },
  {
   "cell_type": "code",
   "execution_count": 16,
   "id": "e8f4bcb6",
   "metadata": {},
   "outputs": [],
   "source": [
    "#IMPLEMENTING AND RUNNNING MNB MODEL - COUNT\n",
    "mnb1 = MultinomialNB()\n",
    "mnb1.fit(train_c, y_train)\n",
    "prediction = mnb1.predict(test_c)"
   ]
  },
  {
   "cell_type": "code",
   "execution_count": 17,
   "id": "65e5e1ad",
   "metadata": {},
   "outputs": [],
   "source": [
    "#EVALUATION\n",
    "mnb_a1 = accuracy_score(y_test, prediction)*100\n",
    "mnb_p1 = precision_score(y_test, prediction)* 100\n",
    "mnb_r1 = recall_score(y_test, prediction)*100\n",
    "mnb_f11 = f1_score(y_test, prediction)*100"
   ]
  },
  {
   "cell_type": "code",
   "execution_count": 18,
   "id": "73f72b85",
   "metadata": {},
   "outputs": [
    {
     "data": {
      "text/plain": [
       "<sklearn.metrics._plot.confusion_matrix.ConfusionMatrixDisplay at 0x281e61e70d0>"
      ]
     },
     "execution_count": 18,
     "metadata": {},
     "output_type": "execute_result"
    },
    {
     "data": {
      "image/png": "[encoded data removed]",
      "text/plain": [
       "<Figure size 640x480 with 2 Axes>"
      ]
     },
     "metadata": {},
     "output_type": "display_data"
    }
   ],
   "source": [
    "#CONFUSION MATRIX\n",
    "cm =  confusion_matrix(y_test, prediction, labels=mnb1.classes_)\n",
    "display = ConfusionMatrixDisplay(confusion_matrix=cm,\n",
    "                              display_labels=mnb1.classes_) \n",
    "display.plot() "
   ]
  },
  {
   "cell_type": "markdown",
   "id": "e478317f",
   "metadata": {},
   "source": [
    "### Support Vector Machine model"
   ]
  },
  {
   "cell_type": "code",
   "execution_count": 19,
   "id": "7c2e069f",
   "metadata": {},
   "outputs": [],
   "source": [
    "#IMPLEMENTING AND RUNNNING SVM MODEL - COUNT\n",
    "svm1 = SVC(kernel='linear')\n",
    "svm1.fit(train_c, y_train)\n",
    "prediction = svm1.predict(test_c)"
   ]
  },
  {
   "cell_type": "code",
   "execution_count": 20,
   "id": "4d977d49",
   "metadata": {},
   "outputs": [],
   "source": [
    "#EVALUATION\n",
    "svm_a1 = accuracy_score(y_test, prediction)*100\n",
    "svm_p1 = precision_score(y_test, prediction)* 100\n",
    "svm_r1 = recall_score(y_test, prediction)*100\n",
    "svm_f11 = f1_score(y_test, prediction)*100"
   ]
  },
  {
   "cell_type": "code",
   "execution_count": 21,
   "id": "54781b56",
   "metadata": {},
   "outputs": [
    {
     "data": {
      "text/plain": [
       "<sklearn.metrics._plot.confusion_matrix.ConfusionMatrixDisplay at 0x281e7000110>"
      ]
     },
     "execution_count": 21,
     "metadata": {},
     "output_type": "execute_result"
    },
    {
     "data": {
      "image/png": "[encoded data removed]",
      "text/plain": [
       "<Figure size 640x480 with 2 Axes>"
      ]
     },
     "metadata": {},
     "output_type": "display_data"
    }
   ],
   "source": [
    "\n",
    "#CONFUSION MATRIX\n",
    "cm =  confusion_matrix(y_test, prediction, labels=svm1.classes_)\n",
    "display = ConfusionMatrixDisplay(confusion_matrix=cm,\n",
    "                              display_labels=svm1.classes_) \n",
    "display.plot() "
   ]
  },
  {
   "cell_type": "markdown",
   "id": "4e3735af",
   "metadata": {},
   "source": [
    "### Logistic Regression model"
   ]
  },
  {
   "cell_type": "code",
   "execution_count": 22,
   "id": "2fd80a4f",
   "metadata": {},
   "outputs": [],
   "source": [
    "#IMPLEMENTING AND RUNNNING LR MODEL - COUNT\n",
    "lr1 = LogisticRegression()\n",
    "lr1.fit(train_c, y_train)\n",
    "prediction = lr1.predict(test_c)"
   ]
  },
  {
   "cell_type": "code",
   "execution_count": 23,
   "id": "8f6134e2",
   "metadata": {},
   "outputs": [],
   "source": [
    "\n",
    "#EVALUATION\n",
    "lr_a1 = accuracy_score(y_test, prediction)*100\n",
    "lr_p1 = precision_score(y_test, prediction)* 100\n",
    "lr_r1 = recall_score(y_test, prediction)*100\n",
    "lr_f11 = f1_score(y_test, prediction)*100"
   ]
  },
  {
   "cell_type": "code",
   "execution_count": 24,
   "id": "590c4b3a",
   "metadata": {},
   "outputs": [
    {
     "data": {
      "text/plain": [
       "<sklearn.metrics._plot.confusion_matrix.ConfusionMatrixDisplay at 0x281e7022f90>"
      ]
     },
     "execution_count": 24,
     "metadata": {},
     "output_type": "execute_result"
    },
    {
     "data": {
      "image/png": "[encoded data removed]",
      "text/plain": [
       "<Figure size 640x480 with 2 Axes>"
      ]
     },
     "metadata": {},
     "output_type": "display_data"
    }
   ],
   "source": [
    "#CONFUSION MATRIX\n",
    "cm =  confusion_matrix(y_test, prediction, labels=lr1.classes_)\n",
    "display = ConfusionMatrixDisplay(confusion_matrix=cm,\n",
    "                              display_labels=lr1.classes_) \n",
    "display.plot()"
   ]
  },
  {
   "cell_type": "markdown",
   "id": "731f3ea8",
   "metadata": {},
   "source": [
    "### Random Forest Classifier"
   ]
  },
  {
   "cell_type": "code",
   "execution_count": 25,
   "id": "8f153b55",
   "metadata": {},
   "outputs": [],
   "source": [
    "#IMPLEMENTING AND RUNNNING LR MODEL - COUNT\n",
    "rf1 = RandomForestClassifier(random_state=42, n_jobs=-1, max_depth=5,\n",
    "                                       n_estimators=100, oob_score=True)\n",
    "rf1.fit(train_c, y_train)\n",
    "prediction = rf1.predict(test_c)"
   ]
  },
  {
   "cell_type": "code",
   "execution_count": 26,
   "id": "479fa9fd",
   "metadata": {},
   "outputs": [],
   "source": [
    "#EVALUATION\n",
    "rf_a1 = accuracy_score(y_test, prediction)*100\n",
    "rf_p1 = precision_score(y_test, prediction)* 100\n",
    "rf_r1 = recall_score(y_test, prediction)*100\n",
    "rf_f11 = f1_score(y_test, prediction)*100"
   ]
  },
  {
   "cell_type": "code",
   "execution_count": 27,
   "id": "d424fd6e",
   "metadata": {},
   "outputs": [
    {
     "data": {
      "text/plain": [
       "<sklearn.metrics._plot.confusion_matrix.ConfusionMatrixDisplay at 0x281e712eb90>"
      ]
     },
     "execution_count": 27,
     "metadata": {},
     "output_type": "execute_result"
    },
    {
     "data": {
      "image/png": "[encoded data removed]",
      "text/plain": [
       "<Figure size 640x480 with 2 Axes>"
      ]
     },
     "metadata": {},
     "output_type": "display_data"
    }
   ],
   "source": [
    "#CONFUSION MATRIX\n",
    "cm =  confusion_matrix(y_test, prediction, labels=rf1.classes_)\n",
    "display = ConfusionMatrixDisplay(confusion_matrix=cm,\n",
    "                              display_labels=rf1.classes_) \n",
    "display.plot()"
   ]
  },
  {
   "cell_type": "markdown",
   "id": "a819c65a",
   "metadata": {},
   "source": [
    "### TFIDF VECTORIZER AND MODELING\n"
   ]
  },
  {
   "cell_type": "markdown",
   "id": "433bc377",
   "metadata": {},
   "source": [
    "We examine the total document weightage of a word in TfidfVectorizer. It assists us in coping with the most common terms. We may use it to penalize them. The word counts are weighted by a measure of how frequently they appear in the documents in TfidfVectorizer."
   ]
  },
  {
   "cell_type": "code",
   "execution_count": 28,
   "id": "c7d8a4aa",
   "metadata": {},
   "outputs": [
    {
     "name": "stdout",
     "output_type": "stream",
     "text": [
      "\n",
      "Vocabulary: \n",
      " {'current': 415, 'sell': 1498, 'price': 1310, 'compar': 343, 'supermarket': 1705, 'good': 761, 'smell': 1563, 'pleasant': 1270, 'need': 1134, 'add': 14, 'small': 1558, 'cloth': 321, 'fresh': 701, 'great': 777, 'moisturis': 1100, 'sensit': 1502, 'love': 1010, 'pour': 1293, 'smaller': 1559, 'bottl': 194, 'make': 1033, 'manag': 1037, 'beat': 137, 'decent': 434, 'fabric': 616, 'soften': 1580, 'nice': 1142, 'fragranc': 696, 'purchas': 1334, 'deliveri': 458, 'cream': 399, 'handwash': 802, 'cheaper': 282, 'hand': 799, 'better': 155, 'liquid': 989, 'oh': 1174, 'wing': 1916, 'dove': 516, 'kitchen': 941, 'bathroom': 131, 'shower': 1527, 'room': 1436, 'recommend': 1378, 'highli': 831, 'star': 1636, 'simpl': 1537, 'gel': 728, 'like': 978, 'glue': 754, 'hard': 806, 'rub': 1444, 'slip': 1555, 'bath': 130, 'goe': 757, 'smoothli': 1569, 'easili': 541, 'wast': 1884, 'leav': 965, 'feel': 645, 'silki': 1535, 'soft': 1579, 'scenti': 1477, 'review': 1419, 'collect': 328, 'promot': 1322, 'excel': 591, 'everi': 582, 'day': 428, 'facial': 619, 'wash': 1881, 'excess': 593, 'face': 618, 'strip': 1669, 'natur': 1127, 'oil': 1175, 'care': 257, 'routin': 1442, 'morn': 1108, 'night': 1144, 'clean': 310, 'brilliant': 214, 'offer': 1172, 'gorgeou': 763, 'amaz': 52, 'valu': 1847, 'girli': 740, 'hair': 795, 'buy': 236, 'chang': 277, 'preserv': 1304, 'come': 333, 'bad': 109, 'sore': 1599, 'rash': 1354, 'eye': 610, 'burn': 231, 'lip': 988, 'tingl': 1774, 'phone': 1255, 'told': 1784, 'stuff': 1677, 'ask': 92, 'said': 1454, 'know': 944, 'want': 1877, 'reason': 1368, 'mayb': 1056, 'save': 1468, 'money': 1103, 'ingredi': 898, 'nearli': 1130, 'year': 1949, 'sinc': 1541, 'nivea': 1147, 'sold': 1583, 'compani': 341, 'german': 734, 'im': 873, 'realli': 1366, 'angri': 56, 'suppos': 1708, 'ok': 1177, 'rubbish': 1446, 'burnt': 232, 'pleas': 1269, 'usual': 1845, 'stock': 1651, 'fulli': 714, 'asda': 90, 'gave': 727, 'refund': 1386, 'gift': 736, 'card': 254, 'receipt': 1371, 'pocket': 1277, 'condition': 357, 'normal': 1151, 'oili': 1176, 'week': 1895, 'saw': 1470, 'differ': 482, 'felt': 648, 'cleans': 312, 'clearer': 315, 'notic': 1156, 'straightaway': 1659, 'red': 1381, 'blemish': 170, 'previou': 1308, 'kid': 937, 'doesnt': 507, 'irrit': 915, 'scent': 1476, 'littl': 994, 'bit': 163, 'long': 1000, 'way': 1891, 'similar': 1536, 'perfect': 1236, 'got': 765, 'coupl': 392, 'ago': 32, 'refresh': 1385, 'bodi': 182, 'smooth': 1567, 'cucumb': 410, 'relax': 1393, 'best': 154, 'came': 244, 'separ': 1504, 'packet': 1208, 'sealabl': 1491, 'affect': 25, 'rough': 1440, 'dri': 527, 'otherwis': 1193, 'fantast': 633, 'lot': 1008, 'effort': 551, 'reduc': 1382, 'plastic': 1268, 'concentr': 352, 'buyer': 237, 'say': 1471, 'larger': 950, 'probabl': 1316, 'explain': 603, 'label': 946, 'fuchsia': 712, 'perfum': 1239, 'version': 1863, 'overpow': 1203, 'big': 156, 'plu': 1274, 'difficulti': 484, 'intens': 908, 'past': 1226, 'note': 1153, 'outer': 1194, 'sleev': 1550, 'recycl': 1380, 'dispos': 500, 'charg': 280, 'kind': 938, 'overbear': 1199, 'anyon': 66, 'glow': 752, 'afford': 26, 'comfort': 334, 'creation': 402, 'round': 1441, 'market': 1045, 'close': 320, 'match': 1053, 'honeysuckl': 847, 'sandalwood': 1463, 'person': 1246, 'favourit': 640, 'howev': 856, 'descript': 467, 'ad': 13, 'recent': 1373, 'amazon': 55, 'pantri': 1215, 'order': 1189, 'lamin': 947, 'tile': 1770, 'floor': 671, 'subtl': 1685, 'streak': 1662, 'free': 699, 'shine': 1523, 'moistur': 1099, 'essenti': 579, 'tri': 1807, 'time': 1772, 'today': 1780, 'packag': 1207, 'easi': 539, 'open': 1182, 'squeez': 1627, 'releas': 1394, 'puff': 1330, 'froth': 708, 'pure': 1335, 'smear': 1562, 'white': 1907, 'absorb': 4, 'non': 1148, 'greasi': 776, 'appli': 73, 'think': 1758, 'expens': 600, 'cheap': 281, 'qualiti': 1340, 'dairi': 421, 'aroma': 84, 'dont': 510, 'drench': 525, 'lotion': 1009, 'pretti': 1306, 'worth': 1936, 'thank': 1751, 'item': 920, 'describ': 466, 'rapid': 1352, 'stop': 1653, 'static': 1641, 'chocol': 295, 'flavour': 670, 'creami': 400, 'soap': 1576, 'anyth': 67, 'els': 555, 'lather': 955, 'noth': 1154, 'fail': 623, 'protect': 1326, 'gentl': 731, 'basic': 126, 'harm': 807, 'nourish': 1157, 'tasti': 1733, 'beef': 144, 'tomato': 1785, 'grate': 773, 'cheddar': 285, 'chees': 287, 'mix': 1091, 'nd': 1128, 'let': 970, 'sit': 1544, 'minut': 1083, 'regret': 1388, 'set': 1509, 'took': 1790, 'expect': 599, 'size': 1546, 'persil': 1244, 'quit': 1348, 'pictur': 1258, 'mislead': 1087, 'apart': 71, 'cheer': 286, 'makeup': 1035, 'eas': 538, 'micellar': 1074, 'water': 1887, 'left': 966, 'pack': 1206, 'extra': 604, 'impresss': 882, 'content': 370, 'aw': 103, 'cut': 418, 'right': 1427, 'fingernail': 659, 'turn': 1817, 'upsid': 1843, 'approach': 78, 'empti': 560, 'ridicul': 1426, 'design': 468, 'bought': 195, 'lumber': 1017, 'home': 842, 'larg': 949, 'decant': 433, 'exist': 596, 'contain': 369, 'tell': 1740, 'straight': 1658, 'away': 105, 'despit': 471, 'compart': 345, 'machin': 1026, 'towel': 1795, 'unlik': 1834, 'manufactur': 1041, 'healthi': 818, 'definit': 449, 'forese': 685, 'futur': 721, 'gotten': 767, 'result': 1415, 'brillant': 213, 'brand': 202, 'absolut': 3, 'fan': 631, 'wow': 1938, 'factor': 621, 'base': 123, 'commerci': 337, 'help': 826, 'disappoint': 491, 'especi': 578, 'point': 1279, 'ice': 867, 'chunk': 303, 'difficult': 483, 'eat': 542, 'entir': 571, 'tub': 1813, 'nasti': 1126, 'chemic': 288, 'super': 1701, 'famili': 630, 'young': 1955, 'old': 1179, 'friendli': 706, 'mean': 1059, 'colour': 331, 'honestli': 845, 'problemat': 1318, 'prone': 1323, 'dermat': 464, 'tast': 1732, 'weed': 1894, 'vinegar': 1866, 'work': 1931, 'remov': 1403, 'havent': 812, 'hamper': 798, 'christma': 299, 'sure': 1709, 'magnum': 1030, 'incas': 886, 'amazebal': 53, 'togeth': 1781, 'delici': 455, 'superb': 1702, 'kit': 940, 'bio': 160, 'stubborn': 1674, 'stain': 1631, 'word': 1930, 'warn': 1880, 'handl': 801, 'tend': 1743, 'ensur': 568, 'thoroughli': 1762, 'rins': 1428, 'repair': 1405, 'guy': 791, 'fals': 629, 'economi': 545, 'build': 227, 'caus': 262, 'issu': 917, 'huggabl': 859, 'strong': 1671, 'alcohol': 36, 'pot': 1291, 'noodl': 1149, 'student': 1676, 'yuck': 1958, 'addit': 15, 'sauc': 1466, 'pasta': 1227, 'carboard': 251, 'situat': 1545, 'access': 6, 'kettl': 934, 'chose': 298, 'mugshot': 1116, 'mistak': 1089, 'scrumptiou': 1488, 'authent': 99, 'linger': 985, 'bonu': 189, 'percent': 1235, 'fact': 620, 'husband': 863, 'classic': 309, 'lynx': 1025, 'deodor': 461, 'regularli': 1390, 'number': 1160, 'skincar': 1547, 'avoid': 102, 'toner': 1787, 'experi': 601, 'anoth': 62, 'major': 1032, 'extrem': 607, 'flaki': 666, 'sting': 1649, 'dewi': 477, 'look': 1004, 'deffin': 442, 'opinion': 1183, 'reccomend': 1370, 'deal': 431, 'slow': 1556, 'cook': 377, 'beauti': 139, 'tip': 1776, 'mark': 1044, 'alway': 51, 'fresher': 702, 'regular': 1389, 'late': 952, 'overal': 1198, 'improv': 883, 'claim': 306, 'perform': 1238, 'miracl': 1084, 'lol': 998, 'reaction': 1360, 'happen': 803, 'winter': 1918, 'weather': 1893, 'central': 266, 'heat': 820, 'vaselin': 1852, 'dealt': 432, 'includ': 888, 'elbow': 553, 'knee': 942, 'place': 1263, 'glide': 747, 'dream': 524, 'summer': 1695, 'spent': 1614, 'lay': 959, 'beach': 134, 'eyemak': 613, 'men': 1067, 'boot': 191, 'tame': 1726, 'divin': 502, 'iron': 914, 'tear': 1737, 'penni': 1233, 'scale': 1472, 'deliv': 457, 'quickli': 1346, 'shampoo': 1516, 'leak': 964, 'tan': 1727, 'sunb': 1697, 'spray': 1624, 'thought': 1763, 'clear': 314, 'friend': 705, 'huge': 858, 'indoor': 893, 'didnt': 479, 'exxtra': 609, 'fast': 635, 'thankyou': 1752, 'half': 797, 'shop': 1526, 'line': 983, 'fake': 627, 'africa': 28, 'poorer': 1282, 'new': 1138, 'softer': 1581, 'particularli': 1221, 'wrap': 1939, 'storag': 1655, 'measur': 1061, 'touch': 1793, 'brighter': 210, 'cleaner': 311, 'afterward': 29, 'everyon': 585, 'impress': 881, 'neutral': 1137, 'defiantli': 444, 'fab': 615, 'rate': 1356, 'mani': 1039, 'micel': 1073, 'wipe': 1919, 'total': 1792, 'alreadi': 46, 'receiv': 1372, 'feed': 644, 'event': 580, 'absoulut': 5, 'stick': 1646, 'job': 927, 'live': 995, 'hype': 866, 'clearli': 316, 'lead': 962, 'leader': 963, 'inspir': 902, 'confid': 359, 'certainli': 270, 'harsh': 809, 'favorit': 638, 'imposs': 880, 'sourc': 1603, 'check': 284, 'target': 1731, 'piec': 1260, 'crack': 397, 'bare': 119, 'far': 634, 'concern': 354, 'waterproof': 1889, 'mascara': 1049, 'powder': 1295, 'return': 1417, 'paid': 1210, 'daili': 420, 'basi': 125, 'age': 30, 'multipl': 1117, 'bulk': 228, 'door': 511, 'funnel': 718, 'easier': 540, 'section': 1496, 'washer': 1882, 'moreov': 1107, 'thing': 1757, 'exactli': 590, 'someth': 1588, 'odor': 1169, 'blend': 171, 'energis': 565, 'complain': 347, 'lid': 972, 'bin': 159, 'spill': 1618, 'everywher': 588, 'box': 198, 'ml': 1093, 'hope': 848, 'misl': 1086, 'month': 1104, 'start': 1637, 'enjoy': 567, 'mr': 1114, 'hinch': 833, 'glad': 743, 'scratch': 1481, 'scour': 1480, 'pad': 1209, 'minki': 1082, 'spong': 1621, 'oven': 1197, 'hob': 838, 'tap': 1730, 'sink': 1543, 'screen': 1483, 'gleam': 746, 'compact': 340, 'rang': 1351, 'actual': 12, 'complet': 349, 'ha': 793, 'excema': 592, 'hit': 835, 'everyday': 584, 'massiv': 1052, 'cap': 246, 'lenor': 968, 'unstopp': 1839, 'convert': 375, 'mild': 1077, 'messi': 1071, 'step': 1645, 'dad': 419, 'awhil': 107, 'suitabl': 1694, 'obviou': 1162, 'choic': 296, 'believ': 147, 'continu': 371, 'term': 1745, 'benefit': 151, 'happi': 804, 'alround': 48, 'consist': 365, 'dilut': 485, 'guess': 790, 'blue': 178, 'pigment': 1261, 'act': 11, 'reli': 1395, 'hydrat': 865, 'mixtur': 1092, 'varieti': 1850, 'reach': 1358, 'matter': 1054, 'neg': 1135, 'pump': 1332, 'end': 562, 'foam': 678, 'met': 1072, 'standard': 1634, 'bar': 118, 'quarter': 1342, 'truli': 1812, 'load': 996, 'sometim': 1589, 'stapl': 1635, 'heal': 817, 'abras': 2, 'boy': 199, 'store': 1656, 'cupboard': 412, 'dead': 430, 'therapi': 1753, 'origin': 1192, 'mini': 1080, 'arriv': 85, 'real': 1363, 'delight': 456, 'quick': 1345, 'subscrib': 1682, 'light': 976, 'bubbl': 224, 'floral': 672, 'masculin': 1050, 'bigger': 157, 'volum': 1869, 'garag': 724, 'known': 945, 'sweet': 1719, 'textur': 1750, 'artifici': 89, 'justv': 930, 'hour': 853, 'pale': 1212, 'disastr': 492, 'success': 1686, 'creat': 401, 'spot': 1623, 'abl': 1, 'deepli': 440, 'exfoli': 595, 'wont': 1927, 'suffer': 1689, 'babi': 108, 'style': 1679, 'genuin': 733, 'neatli': 1131, 'everyth': 586, 'shall': 1514, 'tresmemm': 1806, 'fussi': 720, 'suit': 1693, 'therefor': 1754, 'prefer': 1301, 'burst': 233, 'transit': 1801, 'snack': 1572, 'went': 1899, 'weekend': 1896, 'decid': 435, 'wet': 1900, 'cashmer': 260, 'sweater': 1718, 'sainsburi': 1455, 'scrummi': 1487, 'delic': 454, 'requir': 1410, 'bring': 215, 'runni': 1449, 'glam': 744, 'somewher': 1591, 'follow': 681, 'inexpens': 895, 'plain': 1264, 'mother': 1112, 'law': 958, 'wat': 1885, 'discount': 494, 'tin': 1773, 'sooth': 1597, 'residu': 1411, 'cool': 380, 'readi': 1362, 'magic': 1028, 'latest': 954, 'variat': 1849, 'address': 16, 'environment': 573, 'transport': 1802, 'cost': 386, 'commend': 335, 'sens': 1500, 'detect': 472, 'breath': 206, 'form': 688, 'slightli': 1552, 'zesti': 1960, 'user': 1844, 'repres': 1408, 'lessen': 969, 'impact': 878, 'environ': 572, 'albeit': 35, 'smallest': 1560, 'ideal': 870, 'son': 1592, 'adult': 20, 'children': 293, 'belov': 148, 'pet': 1250, 'incred': 891, 'lolli': 999, 'bargain': 120, 'introduc': 910, 'partner': 1223, 'sadli': 1452, 'share': 1517, 'hot': 852, 'melt': 1065, 'drip': 530, 'finish': 660, 'favour': 639, 'properli': 1324, 'inferior': 896, 'tesco': 1747, 'microwav': 1076, 'sever': 1510, 'badli': 111, 'lumpi': 1018, 'mostli': 1109, 'simplic': 1539, 'gone': 759, 'effect': 549, 'trace': 1798, 'fanci': 632, 'remain': 1399, 'sticki': 1647, 'defin': 446, 'heavi': 821, 'frequent': 700, 'perhap': 1240, 'capsul': 248, 'household': 855, 'terribl': 1746, 'allerg': 37, 'constant': 366, 'hay': 813, 'wrong': 1944, 'sign': 1529, 'gluten': 755, 'casserol': 261, 'sat': 1464, 'toilet': 1782, 'barley': 122, 'coeliac': 325, 'peopl': 1234, 'unsuit': 1840, 'pick': 1257, 'signific': 1531, 'rel': 1392, 'sturdier': 1678, 'travel': 1803, 'hous': 854, 'tini': 1775, 'surfac': 1711, 'pic': 1256, 'wonder': 1925, 'deni': 459, 'fix': 664, 'instead': 905, 'whenev': 1902, 'react': 1359, 'true': 1811, 'luxuri': 1024, 'prime': 1312, 'conveni': 374, 'incorpor': 889, 'cleanser': 313, 'eventu': 581, 'margin': 1043, 'obvious': 1163, 'comment': 336, 'appreci': 76, 'break': 204, 'vegan': 1855, 'daughter': 427, 'persuad': 1248, 'hesit': 827, 'pay': 1230, 'forward': 693, 'soup': 1602, 'risotto': 1432, 'younger': 1956, 'menopaus': 1068, 'calm': 241, 'wrinkl': 1941, 'crepey': 403, 'layer': 960, 'conjunct': 361, 'hyaluron': 864, 'companion': 342, 'loss': 1006, 'firm': 661, 'oz': 1205, 'csmart': 408, 'screw': 1484, 'determin': 474, 'loos': 1005, 'knife': 943, 'wise': 1920, 'advoid': 24, 'smart': 1561, 'local': 997, 'okay': 1178, 'meant': 1060, 'equal': 574, 'artif': 88, 'upset': 1842, 'simpli': 1538, 'english': 566, 'mustard': 1122, 'colman': 329, 'sunday': 1698, 'roast': 1433, 'tube': 1814, 'invari': 911, 'serv': 1507, 'nozzl': 1159, 'block': 173, 'someon': 1587, 'scrub': 1486, 'extremli': 608, 'frangranc': 698, 'fairli': 626, 'spread': 1625, 'soak': 1575, 'smelt': 1566, 'wilkinson': 1913, 'area': 80, 'soon': 1593, 'becom': 140, 'scalp': 1474, 'satisfi': 1465, 'sorri': 1600, 'voucher': 1870, 'post': 1289, 'slimi': 1554, 'problem': 1317, 'unhappi': 1831, 'respons': 1413, 'treat': 1804, 'portug': 1287, 'miss': 1088, 'tea': 1736, 'straighten': 1660, 'curl': 414, 'damag': 422, 'seller': 1499, 'pod': 1278, 'bag': 113, 'filler': 654, 'rich': 1423, 'special': 1609, 'elsewher': 556, 'laundri': 957, 'hate': 810, 'arrog': 86, 'unilev': 1832, 'hold': 839, 'palm': 1213, 'fine': 657, 'paragon': 1217, 'champ': 275, 'tight': 1768, 'win': 1915, 'doubl': 514, 'struggl': 1673, 'tough': 1794, 'unbeliev': 1824, 'compliment': 350, 'august': 98, 'itchi': 919, 'stream': 1664, 'grandchildren': 771, 'unfortun': 1830, 'green': 779, 'lime': 980, 'individu': 892, 'dandruff': 425, 'anti': 63, 'prior': 1314, 'particular': 1220, 'busi': 234, 'mum': 1118, 'admit': 18, 'neglect': 1136, 'empathis': 559, 'trial': 1808, 'opportun': 1184, 'reconnect': 1379, 'cme': 322, 'smother': 1570, 'offens': 1171, 'alo': 41, 'applic': 74, 'bedtim': 142, 'verdict': 1859, 'thumb': 1765, 'ye': 1948, 'second': 1493, 'lightweight': 977, 'tendenc': 1744, 'pull': 1331, 'liber': 971, 'discreet': 496, 'overwhelm': 1204, 'protector': 1327, 'retain': 1416, 'ezyema': 614, 'switch': 1721, 'radiant': 1349, 'regim': 1387, 'thinner': 1759, 'heavili': 822, 'cancel': 245, 'subscript': 1683, 'wait': 1873, 'fyi': 722, 'attract': 97, 'floweri': 674, 'badeda': 110, 'holiday': 841, 'sun': 1696, 'till': 1771, 'stope': 1654, 'blow': 177, 'prevent': 1307, 'transform': 1800, 'nose': 1152, 'dehydr': 453, 'sort': 1601, 'rest': 1414, 'sleep': 1549, 'caramel': 249, 'marshmallow': 1047, 'liter': 992, 'calori': 243, 'bomb': 186, 'gross': 783, 'gonna': 760, 'throw': 1764, 'coca': 324, 'butter': 235, 'marmit': 1046, 'lover': 1012, 'glass': 745, 'jar': 924, 'oddli': 1168, 'given': 741, 'persev': 1243, 'shini': 1524, 'root': 1437, 'drier': 529, 'grown': 786, 'horribl': 850, 'agre': 33, 'tighter': 1769, 'import': 879, 'confus': 360, 'milk': 1079, 'maker': 1034, 'risk': 1431, 'underwear': 1829, 'ultra': 1823, 'twice': 1818, 'combin': 332, 'harmoni': 808, 'chicken': 291, 'mushroom': 1121, 'pie': 1259, 'salt': 1458, 'ruin': 1447, 'chuck': 302, 'tongu': 1789, 'season': 1492, 'accident': 7, 'swallow': 1715, 'sea': 1489, 'xd': 1945, 'older': 1180, 'wide': 1910, 'awak': 104, 'flakey': 665, 'smelli': 1564, 'pit': 1262, 'plenti': 1273, 'longer': 1001, 'comparison': 344, 'yo': 1953, 'born': 192, 'defient': 445, 'odourless': 1170, 'suppl': 1706, 'nightli': 1145, 'bed': 141, 'clog': 319, 'pore': 1285, 'replenish': 1407, 'daytim': 429, 'reappli': 1367, 'overnight': 1202, 'unscent': 1836, 'patch': 1228, 'stone': 1652, 'munchi': 1119, 'food': 683, 'depend': 463, 'wish': 1921, 'talk': 1724, 'visit': 1868, 'certifi': 271, 'british': 216, 'foundat': 694, 'freshli': 703, 'launder': 956, 'reliabl': 1396, 'cooler': 381, 'wahs': 1872, 'soapi': 1577, 'type': 1819, 'downsid': 517, 'hole': 840, 'tresemm': 1805, 'stand': 1633, 'yummi': 1959, 'sugari': 1691, 'eco': 543, 'parcel': 1218, 'brain': 200, 'op': 1181, 'wife': 1911, 'safe': 1453, 'recomend': 1377, 'aswel': 94, 'moist': 1097, 'surf': 1710, 'stay': 1642, 'articl': 87, 'acn': 10, 'scar': 1475, 'opposit': 1185, 'life': 974, 'visibl': 1867, 'fade': 622, 'dermatologist': 465, 'game': 723, 'changer': 278, 'main': 1031, 'test': 1748, 'singl': 1542, 'mayo': 1057, 'bod': 181, 'bat': 127, 'quench': 1343, 'fell': 647, 'cooki': 379, 'dough': 515, 'superdrug': 1703, 'prize': 1315, 'buzz': 238, 'limit': 982, 'edit': 548, 'stayer': 1643, 'scratchi': 1482, 'rip': 1429, 'mistreat': 1090, 'dock': 503, 'reus': 1418, 'revitalis': 1420, 'gentli': 732, 'impur': 884, 'servic': 1508, 'fault': 636, 'rocemmend': 1434, 'almond': 40, 'mouth': 1113, 'fave': 637, 'dark': 426, 'passion': 1225, 'narrow': 1125, 'accur': 8, 'slim': 1553, 'pourer': 1294, 'dribbl': 528, 'washload': 1883, 'flower': 673, 'hint': 834, 'fruit': 710, 'mango': 1038, 'brought': 220, 'cornet': 383, 'luvli': 1022, 'carri': 258, 'worri': 1933, 'man': 1036, 'choos': 297, 'sweat': 1717, 'mayonnais': 1058, 'substanc': 1684, 'squeezi': 1628, 'geniu': 730, 'idea': 869, 'tall': 1725, 'unstabl': 1838, 'ive': 923, 'fridg': 704, 'tumbl': 1815, 'brittl': 217, 'shatter': 1520, 'groundhog': 784, 'cri': 404, 'overhaul': 1200, 'curri': 416, 'besid': 153, 'sachet': 1451, 'edibl': 547, 'phenomen': 1253, 'function': 716, 'longest': 1002, 'rid': 1425, 'kept': 933, 'drawback': 521, 'suppli': 1707, 'wear': 1892, 'diabet': 478, 'carbohydr': 252, 'nutrit': 1161, 'inform': 897, 'whatsoev': 1901, 'wall': 1876, 'specif': 1610, 'portion': 1286, 'whitehead': 1908, 'bash': 124, 'inadvert': 885, 'deterg': 473, 'fairi': 625, 'joint': 928, 'biolog': 162, 'septic': 1505, 'tank': 1728, 'dispens': 499, 'insert': 900, 'suffici': 1690, 'condit': 356, 'competit': 346, 'hav': 811, 'btilliant': 222, 'wild': 1912, 'enthusiast': 569, 'err': 575, 'gener': 729, 'custom': 417, 'write': 1943, 'uncomfort': 1828, 'clash': 307, 'coat': 323, 'sickli': 1528, 'raspberri': 1355, 'cover': 394, 'core': 382, 'remind': 1402, 'cheapest': 283, 'imagin': 874, 'insipid': 901, 'rush': 1450, 'develop': 475, 'process': 1319, 'bitter': 165, 'rippl': 1430, 'consid': 363, 'lush': 1021, 'suggest': 1692, 'petrolatum': 1251, 'damp': 423, 'eczema': 546, 'rosacea': 1439, 'coz': 396, 'wors': 1934, 'apprehens': 77, 'broken': 219, 'fit': 663, 'purpos': 1338, 'sport': 1622, 'mad': 1027, 'teenag': 1738, 'promis': 1321, 'moisturisor': 1101, 'deoder': 460, 'discov': 495, 'shame': 1515, 'broke': 218, 'manli': 1040, 'foami': 679, 'wondr': 1926, 'variou': 1851, 'chamomil': 274, 'weight': 1898, 'thicker': 1756, 'space': 1604, 'nicest': 1143, 'mmmm': 1094, 'bo': 179, 'beater': 138, 'plainli': 1265, 'bright': 208, 'bold': 185, 'grudg': 787, 'dirti': 489, 'tablet': 1722, 'necess': 1132, 'weekli': 1897, 'groceri': 782, 'budget': 226, 'cake': 240, 'exot': 597, 'veget': 1856, 'ariel': 81, 'domin': 509, 'global': 749, 'consum': 367, 'giant': 735, 'expert': 602, 'dodgi': 505, 'imit': 875, 'sub': 1680, 'guarante': 789, 'high': 830, 'rubberi': 1445, 'gossam': 764, 'case': 259, 'brightli': 211, 'funki': 717, 'purpl': 1337, 'grey': 781, 'swirl': 1720, 'gu': 788, 'outsid': 1195, 'grade': 768, 'disappear': 490, 'mysteri': 1123, 'sphinx': 1616, 'giza': 742, 'bermuda': 152, 'triangl': 1809, 'voynich': 1871, 'manuscript': 1042, 'xlarg': 1946, 'discontinu': 493, 'option': 1187, 'limescal': 981, 'unclog': 1827, 'wake': 1874, 'plump': 1276, 'ill': 872, 'pun': 1333, 'intend': 907, 'altern': 49, 'forth': 691, 'healthier': 819, 'advic': 22, 'minimum': 1081, 'annoy': 60, 'asid': 91, 'run': 1448, 'plug': 1275, 'potenti': 1292, 'increas': 890, 'member': 1066, 'endors': 563, 'practic': 1298, 'nappi': 1124, 'pyramid': 1339, 'warm': 1879, 'present': 1303, 'st': 1630, 'rememb': 1401, 'repurchas': 1409, 'figur': 653, 'medicin': 1062, 'cabinet': 239, 'salti': 1459, 'yeast': 1950, 'honest': 844, 'toast': 1779, 'fluctuat': 675, 'particulr': 1222, 'watch': 1886, 'smellllllll': 1565, 'sauna': 1467, 'outstand': 1196, 'turkey': 1816, 'neck': 1133, 'shake': 1512, 'graviti': 775, 'vastli': 1853, 'sharp': 1519, 'begin': 145, 'assum': 93, 'grow': 785, 'ocado': 1164, 'sampl': 1460, 'state': 1639, 'formula': 690, 'correct': 385, 'later': 953, 'boost': 190, 'sooo': 1595, 'complaint': 348, 'concept': 353, 'recal': 1369, 'tetra': 1749, 'public': 1329, 'innov': 899, 'refil': 1384, 'cardboard': 255, 'dose': 513, 'counter': 390, 'read': 1361, 'print': 1313, 'wrapper': 1940, 'magnif': 1029, 'anim': 57, 'whilst': 1905, 'provid': 1328, 'headquart': 816, 'offic': 1173, 'produc': 1320, 'countri': 391, 'sale': 1457, 'carbon': 253, 'footprint': 684, 'torn': 1791, 'extrat': 606, 'wherea': 1903, 'secondli': 1494, 'spare': 1607, 'rib': 1422, 'persdper': 1242, 'reorder': 1404, 'somewhat': 1590, 'feminin': 649, 'perspir': 1247, 'danc': 424, 'bay': 133, 'waxi': 1890, 'shark': 1518, 'ben': 149, 'jerri': 926, 'fragrant': 697, 'bargin': 121, 'vanilla': 1848, 'iritatw': 913, 'tbh': 1735, 'loo': 1003, 'conceal': 351, 'moment': 1102, 'coverag': 395, 'brighten': 209, 'glowi': 753, 'perfectli': 1237, 'view': 1865, 'consciou': 362, 'paper': 1216, 'temperament': 1741, 'lazi': 961, 'girl': 738, 'solut': 1585, 'deep': 439, 'repeat': 1406, 'versatil': 1862, 'heel': 823, 'econom': 544, 'defo': 451, 'direct': 487, 'chronic': 300, 'chapstick': 279, 'jot': 929, 'bob': 180, 'uncl': 1826, 'awesom': 106, 'doeant': 506, 'soggi': 1582, 'mess': 1070, 'dish': 498, 'lux': 1023, 'plan': 1266, 'kcal': 931, 'control': 373, 'diet': 481, 'biodegrad': 161, 'forev': 686, 'blackhead': 166, 'zone': 1961, 'fed': 643, 'tone': 1786, 'anymor': 65, 'bland': 167, 'wateri': 1888, 'gold': 758, 'spring': 1626, 'cold': 327, 'cardigan': 256, 'thirti': 1760, 'degre': 452, 'tie': 1767, 'boil': 183, 'bikini': 158, 'dedic': 438, 'ylang': 1952, 'town': 1796, 'aaaaamaz': 0, 'tattoooo': 1734, 'previous': 1309, 'admir': 17, 'blast': 168, 'whiff': 1904, 'planet': 1267, 'pollut': 1280, 'funni': 719, 'cone': 358, 'crispi': 405, 'cornetto': 384, 'flare': 667, 'itch': 918, 'crazi': 398, 'escap': 577, 'lift': 975, 'drop': 531, 'instantli': 904, 'relief': 1397, 'effortlessli': 552, 'alot': 44, 'effici': 550, 'linen': 984, 'pre': 1300, 'extract': 605, 'honey': 846, 'suckl': 1687, 'yesterday': 1951, 'perman': 1241, 'cherri': 289, 'blossom': 175, 'pea': 1231, 'sandal': 1462, 'wood': 1928, 'cup': 411, 'lunch': 1019, 'king': 939, 'gram': 770, 'antiperspir': 64, 'unblock': 1825, 'gradual': 769, 'pleasantli': 1271, 'surpris': 1712, 'cours': 393, 'fcuk': 641, 'opt': 1186, 'starter': 1638, 'newborn': 1139, 'gym': 792, 'hunger': 860, 'challeng': 273, 'strength': 1666, 'endur': 564, 'helmann': 825, 'bone': 188, 'appeal': 72, 'advantag': 21, 'citru': 305, 'muscl': 1120, 'bump': 229, 'ador': 19, 'handi': 800, 'persist': 1245, 'whitout': 1909, 'sin': 1540, 'spend': 1613, 'woken': 1923, 'reiment': 1391, 'smudg': 1571, 'novelti': 1158, 'fish': 662, 'quantiti': 1341, 'deodour': 462, 'swear': 1716, 'arkward': 82, 'kick': 936, 'sent': 1503, 'toiletri': 1783, 'linnen': 987, 'film': 655, 'teeth': 1739, 'ceram': 267, 'realis': 1364, 'cent': 265, 'gooey': 762, 'marshmallowey': 1048, 'phish': 1254, 'class': 308, 'spain': 1606, 'breakout': 205, 'intoler': 909, 'superior': 1704, 'alon': 43, 'thiught': 1761, 'cojld': 326, 'garnier': 725, 'apar': 70, 'stripey': 1670, 'feet': 646, 'orang': 1188, 'stink': 1650, 'moral': 1106, 'stori': 1657, 'format': 689, 'shave': 1521, 'dress': 526, 'fewer': 650, 'worn': 1932, 'meet': 1064, 'amazingli': 54, 'flavor': 669, 'powderi': 1296, 'exempt': 594, 'medium': 1063, 'annoyiji': 61, 'occas': 1165, 'immedi': 876, 'serum': 1506, 'contribut': 372, 'deco': 437, 'women': 1924, 'eldest': 554, 'forgotten': 687, 'chew': 290, 'rope': 1438, 'school': 1478, 'lie': 973, 'nother': 1155, 'automat': 100, 'gloopi': 750, 'drugstor': 532, 'brainer': 201, 'partnership': 1224, 'encourag': 561, 'spici': 1617, 'fear': 642, 'spilt': 1619, 'alright': 47, 'gotta': 766, 'cetearyl': 272, 'cif': 304, 'power': 1297, 'mirror': 1085, 'nightmar': 1146, 'fun': 715, 'ordinari': 1190, 'thicken': 1755, 'gravi': 774, 'pop': 1283, 'press': 1305, 'spell': 1612, 'scali': 1473, 'quid': 1347, 'tempt': 1742, 'everytim': 587, 'spf': 1615, 'critic': 407, 'uva': 1846, 'convinc': 376, 'refer': 1383, 'batteri': 132, 'verifi': 1860, 'overli': 1201, 'allergi': 38, 'certain': 269, 'bondi': 187, 'sand': 1461, 'slight': 1551, 'fabul': 617, 'hike': 832, 'itsel': 921, 'frizz': 707, 'flat': 668, 'lank': 948, 'bounc': 196, 'stuck': 1675, 'unus': 1841, 'cooker': 378, 'invigor': 912, 'newer': 1140, 'rd': 1357, 'isnt': 916, 'cerav': 268, 'norm': 1150, 'begun': 146, 'calmer': 242, 'sciencey': 1479, 'id': 868, 'unless': 1833, 'anytim': 68, 'indulg': 894, 'bite': 164, 'dog': 508, 'micro': 1075, 'granul': 772, 'wari': 1878, 'stainless': 1632, 'steel': 1644, 'liquidi': 990, 'velvet': 1857, 'hopingthat': 849, 'fair': 624, 'btw': 223, 'instruct': 906, 'typic': 1820, 'dy': 537, 'tong': 1788, 'question': 1344, 'clip': 318, 'sensat': 1501, 'definatli': 447, 'surprisingli': 1713, 'shock': 1525, 'litr': 993, 'imo': 877, 'salad': 1456, 'bake': 114, 'bean': 135, 'frozen': 709, 'pear': 1232, 'youth': 1957, 'anitipersperi': 58, 'accustom': 9, 'richer': 1424, 'bundl': 230, 'low': 1013, 'carb': 250, 'duti': 536, 'sock': 1578, 'fraction': 695, 'loveliest': 1011, 'wrist': 1942, 'drum': 533, 'modest': 1096, 'inch': 887, 'god': 756, 'somebodi': 1586, 'brazil': 203, 'expat': 598, 'bearabl': 136, 'vfm': 1864, 'head': 814, 'winner': 1917, 'iv': 922, 'batgain': 129, 'averag': 101, 'oreal': 1191, 'resist': 1412, 'girlfriend': 739, 'mention': 1069, 'benefici': 150, 'list': 991, 'chanc': 276, 'transfer': 1799, 'snif': 1574, 'commit': 338, 'stiff': 1648, 'kg': 935, 'alobg': 42, 'matur': 1055, 'hiya': 837, 'stress': 1667, 'pricey': 1311, 'reliev': 1398, 'final': 656, 'tropic': 1810, 'lili': 979, 'mud': 1115, 'spag': 1605, 'bol': 184, 'attent': 96, 'lingeri': 986, 'cotton': 388, 'silk': 1534, 'fiber': 651, 'gigant': 737, 'possibl': 1288, 'lash': 951, 'eyebrow': 611, 'hide': 829, 'sunshin': 1700, 'clingi': 317, 'greazi': 778, 'advis': 23, 'rare': 1353, 'desir': 469, 'blotch': 176, 'brown': 221, 'attach': 95, 'ignor': 871, 'fortun': 692, 'fulfil': 713, 'criteria': 406, 'wilt': 1914, 'yard': 1947, 'radiu': 1350, 'alarm': 34, 'whisk': 1906, 'drainag': 520, 'devin': 476, 'signatur': 1530, 'haha': 794, 'saver': 1469, 'pamper': 1214, 'heheh': 824, 'hunk': 861, 'shelf': 1522, 'unscrew': 1837, 'glove': 751, 'odd': 1167, 'horrif': 851, 'headach': 815, 'desper': 470, 'afraid': 27, 'disturb': 501, 'properti': 1325, 'fluff': 676, 'dryness': 534, 'unpleas': 1835, 'seal': 1490, 'drain': 519, 'yogurt': 1954, 'alpro': 45, 'blop': 174, 'postag': 1290, 'doctor': 504, 'soooo': 1596, 'walk': 1875, 'pervas': 1249, 'sky': 1548, 'fruiti': 711, 'strike': 1668, 'balanc': 115, 'slurp': 1557, 'reckon': 1375, 'nearer': 1129, 'path': 1229, 'decidedli': 436, 'newsweek': 1141, 'fluffi': 677, 'smoother': 1568, 'hive': 836, 'aggrav': 31, 'wool': 1929, 'chsnge': 301, 'remark': 1400, 'specifi': 1611, 'conclus': 355, 'lure': 1020, 'entic': 570, 'squint': 1629, 'reviv': 1421, 'fallen': 628, 'deffinalti': 443, 'fond': 682, 'poor': 1281, 'consider': 364, 'dinner': 486, 'parti': 1219, 'everybodi': 583, 'jelli': 925, 'loyal': 1014, 'balm': 116, 'finger': 658, 'color': 330, 'petroleum': 1252, 'shadow': 1511, 'appropri': 79, 'tidi': 1766, 'eyelin': 612, 'error': 576, 'spars': 1608, 'bud': 225, 'homemad': 843, 'brill': 212, 'row': 1443, 'roll': 1435, 'shaken': 1513, 'disgust': 497, 'contact': 368, 'suddenli': 1688, 'alth': 50, 'insread': 903, 'toxic': 1797, 'dud': 535, 'split': 1620, 'cautiou': 263, 'lucki': 1016, 'monthli': 1105, 'beed': 143, 'scrib': 1485, 'hurt': 862, 'glitter': 748, 'ankl': 59, 'drawer': 522, 'bovril': 197, 'moan': 1095, 'arm': 83, 'significantli': 1532, 'strang': 1661, 'bleach': 169, 'occasion': 1166, 'recognis': 1376, 'cedarwood': 264, 'popular': 1284, 'bother': 193, 'dozen': 518, 'blindingli': 172, 'leg': 967, 'tanner': 1729, 'stronger': 1672, 'street': 1665, 'veg': 1854, 'cube': 409, 'batch': 128, 'recipebut': 1374, 'secret': 1495, 'mile': 1078, 'hr': 857, 'sedentari': 1497, 'worst': 1935, 'verri': 1861, 'hi': 828, 'uk': 1821, 'anywher': 69, 'massag': 1051, 'keen': 932, 'ban': 117, 'sneaki': 1573, 'woke': 1922, 'sunk': 1699, 'tacki': 1723, 'surviv': 1714, 'brexit': 207, 'defintley': 450, 'die': 480, 'em': 558, 'pregnant': 1302, 'moisteris': 1098, 'lost': 1007, 'count': 389, 'streaki': 1663, 'capful': 247, 'common': 339, 'loyalti': 1015, 'sooner': 1594, 'mostur': 1110, 'definetli': 448, 'mostureris': 1111, 'tissu': 1778, 'pain': 1211, 'pleasur': 1272, 'happili': 805, 'vera': 1858, 'directli': 488, 'allow': 39, 'subject': 1681, 'greenhous': 780, 'gase': 726, 'ultim': 1822, 'fight': 652, 'tire': 1777, 'drawn': 523, 'child': 292, 'dosag': 512, 'statement': 1640, 'worthwhil': 1937, 'sorbet': 1598, 'focus': 680, 'exact': 589, 'costco': 387, 'curiou': 413, 'baffl': 112, 'elviv': 557, 'realiz': 1365, 'silicon': 1533, 'hairdress': 796, 'appoint': 75, 'defenc': 441, 'purifi': 1336, 'pralin': 1299, 'choc': 294, 'solero': 1584}\n"
     ]
    }
   ],
   "source": [
    "TFIDF_vectorizer  = TfidfVectorizer(stop_words='english')\n",
    "\n",
    "TFIDF_vectorizer.fit(X_train)\n",
    "print('\\nVocabulary: \\n', TFIDF_vectorizer.vocabulary_)\n",
    "\n",
    "train_tf = TFIDF_vectorizer.fit_transform(X_train)\n",
    "test_tf = TFIDF_vectorizer.transform(X_test)"
   ]
  },
  {
   "cell_type": "markdown",
   "id": "64621f6d",
   "metadata": {},
   "source": [
    "### Multinomial Naive Bayes model"
   ]
  },
  {
   "cell_type": "code",
   "execution_count": 29,
   "id": "8c17de41",
   "metadata": {},
   "outputs": [],
   "source": [
    "#IMPLEMENTING AND RUNNING MNB MODEL - TFIDF\n",
    "mnb2 = MultinomialNB()\n",
    "mnb2.fit(train_tf, y_train)\n",
    "prediction = mnb2.predict(test_tf)"
   ]
  },
  {
   "cell_type": "code",
   "execution_count": 30,
   "id": "f7792796",
   "metadata": {},
   "outputs": [],
   "source": [
    "#EVALUATION\n",
    "mnb_a2 = accuracy_score(y_test, prediction)*100\n",
    "mnb_p2 = precision_score(y_test, prediction)* 100\n",
    "mnb_r2 = recall_score(y_test, prediction)*100\n",
    "mnb_f12 = f1_score(y_test, prediction)*100"
   ]
  },
  {
   "cell_type": "code",
   "execution_count": 31,
   "id": "4acf6264",
   "metadata": {},
   "outputs": [
    {
     "data": {
      "text/plain": [
       "<sklearn.metrics._plot.confusion_matrix.ConfusionMatrixDisplay at 0x281e703a2d0>"
      ]
     },
     "execution_count": 31,
     "metadata": {},
     "output_type": "execute_result"
    },
    {
     "data": {
      "image/png": "[encoded data removed]",
      "text/plain": [
       "<Figure size 640x480 with 2 Axes>"
      ]
     },
     "metadata": {},
     "output_type": "display_data"
    }
   ],
   "source": [
    "#CONFUSION MATRIX\n",
    "cm =  confusion_matrix(y_test, prediction, labels=mnb2.classes_)\n",
    "display = ConfusionMatrixDisplay(confusion_matrix=cm,\n",
    "                              display_labels=mnb2.classes_) \n",
    "display.plot()"
   ]
  },
  {
   "cell_type": "markdown",
   "id": "0281c46e",
   "metadata": {},
   "source": [
    "### Random Forest model"
   ]
  },
  {
   "cell_type": "code",
   "execution_count": 32,
   "id": "bc4f9220",
   "metadata": {},
   "outputs": [],
   "source": [
    "#IMPLEMENTING AND RUNNNING RF MODEL - COUNT, \n",
    "rf2 = RandomForestClassifier(random_state=42, max_depth=5, min_samples_leaf=10, n_estimators=10, n_jobs=-1)\n",
    "rf2.fit(train_tf, y_train)\n",
    "prediction = rf2.predict(test_tf)"
   ]
  },
  {
   "cell_type": "code",
   "execution_count": null,
   "id": "d9578951",
   "metadata": {},
   "outputs": [],
   "source": []
  },
  {
   "cell_type": "code",
   "execution_count": 33,
   "id": "0a1f35b3",
   "metadata": {},
   "outputs": [],
   "source": [
    "#EVALUATION\n",
    "rf_a2 = accuracy_score(y_test, prediction)*100\n",
    "rf_p2 = precision_score(y_test, prediction)* 100\n",
    "rf_r2 = recall_score(y_test, prediction)*100\n",
    "rf_f12 = f1_score(y_test, prediction)*100"
   ]
  },
  {
   "cell_type": "code",
   "execution_count": 34,
   "id": "e52e6c2c",
   "metadata": {},
   "outputs": [
    {
     "data": {
      "text/plain": [
       "<sklearn.metrics._plot.confusion_matrix.ConfusionMatrixDisplay at 0x281e6f87f90>"
      ]
     },
     "execution_count": 34,
     "metadata": {},
     "output_type": "execute_result"
    },
    {
     "data": {
      "image/png": "[encoded data removed]",
      "text/plain": [
       "<Figure size 640x480 with 2 Axes>"
      ]
     },
     "metadata": {},
     "output_type": "display_data"
    }
   ],
   "source": [
    "#CONFUSION MATRIX\n",
    "cm =  confusion_matrix(y_test, prediction, labels=rf2.classes_)\n",
    "display = ConfusionMatrixDisplay(confusion_matrix=cm,\n",
    "                              display_labels=rf2.classes_) \n",
    "display.plot()"
   ]
  },
  {
   "cell_type": "markdown",
   "id": "ef24edac",
   "metadata": {},
   "source": [
    "### Support Vector Machine model"
   ]
  },
  {
   "cell_type": "code",
   "execution_count": 35,
   "id": "428cad25",
   "metadata": {},
   "outputs": [],
   "source": [
    "#IMPLEMENTING AND RUNNING SVM MODEL - TFIDF \n",
    "svm2 = SVC(kernel='linear')\n",
    "svm2.fit(train_tf, y_train)\n",
    "prediction = svm2.predict(test_tf)"
   ]
  },
  {
   "cell_type": "code",
   "execution_count": 36,
   "id": "f8576903",
   "metadata": {},
   "outputs": [],
   "source": [
    "#EVALUATION\n",
    "svm_a2 = accuracy_score(y_test, prediction)*100\n",
    "svm_p2 = precision_score(y_test, prediction)* 100\n",
    "svm_r2 = recall_score(y_test, prediction)*100\n",
    "svm_f12 = f1_score(y_test, prediction)*100"
   ]
  },
  {
   "cell_type": "code",
   "execution_count": 37,
   "id": "3f1fcbf0",
   "metadata": {},
   "outputs": [
    {
     "data": {
      "text/plain": [
       "<sklearn.metrics._plot.confusion_matrix.ConfusionMatrixDisplay at 0x281e84e8bd0>"
      ]
     },
     "execution_count": 37,
     "metadata": {},
     "output_type": "execute_result"
    },
    {
     "data": {
      "image/png": "[encoded data removed]",
      "text/plain": [
       "<Figure size 640x480 with 2 Axes>"
      ]
     },
     "metadata": {},
     "output_type": "display_data"
    }
   ],
   "source": [
    "#CONFUSION MATRIX\n",
    "cm =  confusion_matrix(y_test, prediction, labels=svm2.classes_)\n",
    "display = ConfusionMatrixDisplay(confusion_matrix=cm,\n",
    "                              display_labels=svm2.classes_) \n",
    "display.plot() "
   ]
  },
  {
   "cell_type": "markdown",
   "id": "e0c61d8d",
   "metadata": {},
   "source": [
    "### Logistic Regression model"
   ]
  },
  {
   "cell_type": "code",
   "execution_count": 38,
   "id": "76df3733",
   "metadata": {},
   "outputs": [],
   "source": [
    "#IMPLEMENTATION AND RUNNING LR MODEL - TFIDF \n",
    "lr2 = LogisticRegression()\n",
    "lr2.fit(train_tf, y_train)\n",
    "prediction = lr2.predict(test_tf)"
   ]
  },
  {
   "cell_type": "code",
   "execution_count": 39,
   "id": "7d0d83b3",
   "metadata": {},
   "outputs": [],
   "source": [
    "#EVALUATION\n",
    "lr_a2 = accuracy_score(y_test, prediction)*100\n",
    "lr_p2 = precision_score(y_test, prediction)* 100\n",
    "lr_r2 = recall_score(y_test, prediction)*100\n",
    "lr_f12 = f1_score(y_test, prediction)*100"
   ]
  },
  {
   "cell_type": "code",
   "execution_count": 40,
   "id": "a74bbbbf",
   "metadata": {},
   "outputs": [
    {
     "data": {
      "text/plain": [
       "<sklearn.metrics._plot.confusion_matrix.ConfusionMatrixDisplay at 0x281e82d5f10>"
      ]
     },
     "execution_count": 40,
     "metadata": {},
     "output_type": "execute_result"
    },
    {
     "data": {
      "image/png": "[encoded data removed]",
      "text/plain": [
       "<Figure size 640x480 with 2 Axes>"
      ]
     },
     "metadata": {},
     "output_type": "display_data"
    }
   ],
   "source": [
    "#CONFUSION MATRIX\n",
    "cm =  confusion_matrix(y_test, prediction, labels=lr2.classes_)\n",
    "display = ConfusionMatrixDisplay(confusion_matrix=cm,\n",
    "                              display_labels=lr2.classes_) \n",
    "display.plot() "
   ]
  },
  {
   "cell_type": "markdown",
   "id": "53baf6cf",
   "metadata": {},
   "source": [
    "### COMPARING ACCURACY"
   ]
  },
  {
   "cell_type": "code",
   "execution_count": 41,
   "id": "9a13052e",
   "metadata": {},
   "outputs": [
    {
     "data": {
      "text/html": [
       "<div>\n",
       "<style scoped>\n",
       "    .dataframe tbody tr th:only-of-type {\n",
       "        vertical-align: middle;\n",
       "    }\n",
       "\n",
       "    .dataframe tbody tr th {\n",
       "        vertical-align: top;\n",
       "    }\n",
       "\n",
       "    .dataframe thead th {\n",
       "        text-align: right;\n",
       "    }\n",
       "</style>\n",
       "<table border=\"1\" class=\"dataframe\">\n",
       "  <thead>\n",
       "    <tr style=\"text-align: right;\">\n",
       "      <th></th>\n",
       "      <th>MNB</th>\n",
       "      <th>SVM</th>\n",
       "      <th>LR</th>\n",
       "      <th>RF</th>\n",
       "    </tr>\n",
       "  </thead>\n",
       "  <tbody>\n",
       "    <tr>\n",
       "      <th>Count Vectorizer</th>\n",
       "      <td>80</td>\n",
       "      <td>84</td>\n",
       "      <td>85</td>\n",
       "      <td>80</td>\n",
       "    </tr>\n",
       "    <tr>\n",
       "      <th>Tfidf Vectorizer</th>\n",
       "      <td>81</td>\n",
       "      <td>84</td>\n",
       "      <td>82</td>\n",
       "      <td>78</td>\n",
       "    </tr>\n",
       "  </tbody>\n",
       "</table>\n",
       "</div>"
      ],
      "text/plain": [
       "                  MNB  SVM  LR  RF\n",
       "Count Vectorizer   80   84  85  80\n",
       "Tfidf Vectorizer   81   84  82  78"
      ]
     },
     "execution_count": 41,
     "metadata": {},
     "output_type": "execute_result"
    }
   ],
   "source": [
    "model_accuracy={'MNB': [round(mnb_a1), round(mnb_a2)],\n",
    "                'SVM': [round(svm_a1), round(svm_a2)],\n",
    "                'LR': [round(lr_a1), round(lr_a2)],\n",
    "                'RF': [round(rf_a1), round(rf_a2)]\n",
    "               }\n",
    "ma = pd.DataFrame(model_accuracy, columns = ['MNB','SVM','LR','RF'], index=['Count Vectorizer','Tfidf Vectorizer'])\n",
    "ma"
   ]
  },
  {
   "cell_type": "markdown",
   "id": "87bf34db",
   "metadata": {},
   "source": [
    "### COMPARING PRECISION"
   ]
  },
  {
   "cell_type": "code",
   "execution_count": 42,
   "id": "0fb804f9",
   "metadata": {},
   "outputs": [
    {
     "data": {
      "text/html": [
       "<div>\n",
       "<style scoped>\n",
       "    .dataframe tbody tr th:only-of-type {\n",
       "        vertical-align: middle;\n",
       "    }\n",
       "\n",
       "    .dataframe tbody tr th {\n",
       "        vertical-align: top;\n",
       "    }\n",
       "\n",
       "    .dataframe thead th {\n",
       "        text-align: right;\n",
       "    }\n",
       "</style>\n",
       "<table border=\"1\" class=\"dataframe\">\n",
       "  <thead>\n",
       "    <tr style=\"text-align: right;\">\n",
       "      <th></th>\n",
       "      <th>MNB</th>\n",
       "      <th>SVM</th>\n",
       "      <th>LR</th>\n",
       "      <th>RF</th>\n",
       "    </tr>\n",
       "  </thead>\n",
       "  <tbody>\n",
       "    <tr>\n",
       "      <th>Count Vectorizer</th>\n",
       "      <td>81</td>\n",
       "      <td>79</td>\n",
       "      <td>80</td>\n",
       "      <td>74</td>\n",
       "    </tr>\n",
       "    <tr>\n",
       "      <th>Tfidf Vectorizer</th>\n",
       "      <td>85</td>\n",
       "      <td>82</td>\n",
       "      <td>81</td>\n",
       "      <td>71</td>\n",
       "    </tr>\n",
       "  </tbody>\n",
       "</table>\n",
       "</div>"
      ],
      "text/plain": [
       "                  MNB  SVM  LR  RF\n",
       "Count Vectorizer   81   79  80  74\n",
       "Tfidf Vectorizer   85   82  81  71"
      ]
     },
     "execution_count": 42,
     "metadata": {},
     "output_type": "execute_result"
    }
   ],
   "source": [
    "model_precision={'MNB': [round(mnb_p1), round(mnb_p2)],\n",
    "                'SVM': [round(svm_p1), round(svm_p2)],\n",
    "                'LR': [round(lr_p1), round(lr_p2)],\n",
    "                 'RF': [round(rf_p1), round(rf_p2)]\n",
    "               }\n",
    "mp = pd.DataFrame(model_precision, columns = ['MNB','SVM','LR','RF'], index=['Count Vectorizer','Tfidf Vectorizer'])\n",
    "mp"
   ]
  },
  {
   "cell_type": "markdown",
   "id": "ad20857f",
   "metadata": {},
   "source": [
    "### COMPARING RECALL"
   ]
  },
  {
   "cell_type": "code",
   "execution_count": 43,
   "id": "ca73b75b",
   "metadata": {},
   "outputs": [
    {
     "data": {
      "text/html": [
       "<div>\n",
       "<style scoped>\n",
       "    .dataframe tbody tr th:only-of-type {\n",
       "        vertical-align: middle;\n",
       "    }\n",
       "\n",
       "    .dataframe tbody tr th {\n",
       "        vertical-align: top;\n",
       "    }\n",
       "\n",
       "    .dataframe thead th {\n",
       "        text-align: right;\n",
       "    }\n",
       "</style>\n",
       "<table border=\"1\" class=\"dataframe\">\n",
       "  <thead>\n",
       "    <tr style=\"text-align: right;\">\n",
       "      <th></th>\n",
       "      <th>MNB</th>\n",
       "      <th>SVM</th>\n",
       "      <th>LR</th>\n",
       "      <th>RF</th>\n",
       "    </tr>\n",
       "  </thead>\n",
       "  <tbody>\n",
       "    <tr>\n",
       "      <th>Count Vectorizer</th>\n",
       "      <td>77</td>\n",
       "      <td>91</td>\n",
       "      <td>92</td>\n",
       "      <td>92</td>\n",
       "    </tr>\n",
       "    <tr>\n",
       "      <th>Tfidf Vectorizer</th>\n",
       "      <td>74</td>\n",
       "      <td>84</td>\n",
       "      <td>81</td>\n",
       "      <td>88</td>\n",
       "    </tr>\n",
       "  </tbody>\n",
       "</table>\n",
       "</div>"
      ],
      "text/plain": [
       "                  MNB  SVM  LR  RF\n",
       "Count Vectorizer   77   91  92  92\n",
       "Tfidf Vectorizer   74   84  81  88"
      ]
     },
     "execution_count": 43,
     "metadata": {},
     "output_type": "execute_result"
    }
   ],
   "source": [
    "model_recall={'MNB': [round(mnb_r1), round(mnb_r2)],\n",
    "                'SVM': [round(svm_r1), round(svm_r2)],\n",
    "                'LR': [round(lr_r1), round(lr_r2)],\n",
    "                'RF': [round(rf_r1), round(rf_r2)]\n",
    "               }\n",
    "mr = pd.DataFrame(model_recall, columns = ['MNB','SVM','LR','RF'], index=['Count Vectorizer','Tfidf Vectorizer'])\n",
    "mr"
   ]
  },
  {
   "cell_type": "markdown",
   "id": "c20f2fc9",
   "metadata": {},
   "source": [
    "### COMPARING F1 SCORE"
   ]
  },
  {
   "cell_type": "code",
   "execution_count": 44,
   "id": "f965bfa9",
   "metadata": {},
   "outputs": [
    {
     "data": {
      "text/html": [
       "<div>\n",
       "<style scoped>\n",
       "    .dataframe tbody tr th:only-of-type {\n",
       "        vertical-align: middle;\n",
       "    }\n",
       "\n",
       "    .dataframe tbody tr th {\n",
       "        vertical-align: top;\n",
       "    }\n",
       "\n",
       "    .dataframe thead th {\n",
       "        text-align: right;\n",
       "    }\n",
       "</style>\n",
       "<table border=\"1\" class=\"dataframe\">\n",
       "  <thead>\n",
       "    <tr style=\"text-align: right;\">\n",
       "      <th></th>\n",
       "      <th>MNB</th>\n",
       "      <th>SVM</th>\n",
       "      <th>LR</th>\n",
       "      <th>RF</th>\n",
       "    </tr>\n",
       "  </thead>\n",
       "  <tbody>\n",
       "    <tr>\n",
       "      <th>Count Vectorizer</th>\n",
       "      <td>79</td>\n",
       "      <td>85</td>\n",
       "      <td>85</td>\n",
       "      <td>82</td>\n",
       "    </tr>\n",
       "    <tr>\n",
       "      <th>Tfidf Vectorizer</th>\n",
       "      <td>79</td>\n",
       "      <td>83</td>\n",
       "      <td>81</td>\n",
       "      <td>79</td>\n",
       "    </tr>\n",
       "  </tbody>\n",
       "</table>\n",
       "</div>"
      ],
      "text/plain": [
       "                  MNB  SVM  LR  RF\n",
       "Count Vectorizer   79   85  85  82\n",
       "Tfidf Vectorizer   79   83  81  79"
      ]
     },
     "execution_count": 44,
     "metadata": {},
     "output_type": "execute_result"
    }
   ],
   "source": [
    "model_f1={'MNB': [round(mnb_f11), round(mnb_f12)],\n",
    "                'SVM': [round(svm_f11), round(svm_f12)],\n",
    "                'LR': [round(lr_f11), round(lr_f12)],\n",
    "                'RF': [round(rf_f11), round(rf_f12)]\n",
    "\n",
    "               }\n",
    "mf1 = pd.DataFrame(model_f1, columns = ['MNB','SVM','LR','RF'], index=['Count Vectorizer','Tfidf Vectorizer'])\n",
    "mf1"
   ]
  },
  {
   "cell_type": "code",
   "execution_count": 45,
   "id": "49d6e376",
   "metadata": {},
   "outputs": [],
   "source": [
    "#SAVING THE BEST MODEL WITH ITS RESPECTIVE VECTORIZER\n",
    "pickle.dump(lr1, open('Models/best_model.pkl', 'wb'))\n",
    "pickle.dump(count_vectorizer, open('Models/count_vectorizer.pkl', 'wb'))"
   ]
  },
  {
   "cell_type": "code",
   "execution_count": null,
   "id": "e6411a65",
   "metadata": {},
   "outputs": [],
   "source": []
  }
 ],
 "metadata": {
  "kernelspec": {
   "display_name": "Python 3 (ipykernel)",
   "language": "python",
   "name": "python3"
  },
  "language_info": {
   "codemirror_mode": {
    "name": "ipython",
    "version": 3
   },
   "file_extension": ".py",
   "mimetype": "text/x-python",
   "name": "python",
   "nbconvert_exporter": "python",
   "pygments_lexer": "ipython3",
   "version": "3.11.4"
  }
 },
 "nbformat": 4,
 "nbformat_minor": 5
}
